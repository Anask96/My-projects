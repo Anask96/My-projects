{
  "cells": [
    {
      "cell_type": "code",
      "execution_count": 1,
      "id": "insured-tennessee",
      "metadata": {
        "id": "insured-tennessee"
      },
      "outputs": [],
      "source": [
        "# Import necessary modules and functions\n",
        "\n",
        "import pandas as pd\n",
        "import seaborn as sns\n",
        "import numpy as np\n",
        "\n",
        "import matplotlib.pyplot as plt\n",
        "%matplotlib inline\n",
        "\n",
        "from matplotlib.pylab import rcParams\n",
        "rcParams['figure.figsize'] = 16, 8\n",
        "\n",
        "from scipy.stats import norm\n",
        "from scipy import stats\n",
        "\n",
        "from sklearn.model_selection import train_test_split\n",
        "from sklearn.model_selection import cross_val_score\n",
        "from sklearn.metrics import confusion_matrix\n",
        "from sklearn.ensemble import RandomForestClassifier\n",
        "\n",
        "import warnings\n",
        "warnings.filterwarnings('ignore')\n",
        "from datetime import datetime"
      ]
    },
    {
      "cell_type": "code",
      "execution_count": 4,
      "id": "byjrC7xojojt",
      "metadata": {
        "id": "byjrC7xojojt"
      },
      "outputs": [],
      "source": [
        "# Import the training set file into a Pandas DataFrame.\n",
        "\n",
        "db = pd.read_csv(\"KS_train_data.csv\",delimiter=',')"
      ]
    },
    {
      "cell_type": "code",
      "execution_count": 5,
      "id": "applicable-major",
      "metadata": {
        "colab": {
          "base_uri": "https://localhost:8080/",
          "height": 502
        },
        "id": "applicable-major",
        "outputId": "a65825eb-56e1-4595-bdbc-5f48d2d9b472"
      },
      "outputs": [
        {
          "data": {
            "text/html": [
              "<div>\n",
              "<style scoped>\n",
              "    .dataframe tbody tr th:only-of-type {\n",
              "        vertical-align: middle;\n",
              "    }\n",
              "\n",
              "    .dataframe tbody tr th {\n",
              "        vertical-align: top;\n",
              "    }\n",
              "\n",
              "    .dataframe thead th {\n",
              "        text-align: right;\n",
              "    }\n",
              "</style>\n",
              "<table border=\"1\" class=\"dataframe\">\n",
              "  <thead>\n",
              "    <tr style=\"text-align: right;\">\n",
              "      <th></th>\n",
              "      <th>project_id</th>\n",
              "      <th>backers_count</th>\n",
              "      <th>blurb</th>\n",
              "      <th>category</th>\n",
              "      <th>converted_pledged_amount</th>\n",
              "      <th>country</th>\n",
              "      <th>created_at</th>\n",
              "      <th>currency</th>\n",
              "      <th>deadline</th>\n",
              "      <th>fx_rate</th>\n",
              "      <th>...</th>\n",
              "      <th>launched_at</th>\n",
              "      <th>name</th>\n",
              "      <th>pledged</th>\n",
              "      <th>staff_pick</th>\n",
              "      <th>usd_pledged</th>\n",
              "      <th>location</th>\n",
              "      <th>funded</th>\n",
              "      <th>subcategory</th>\n",
              "      <th>project_url</th>\n",
              "      <th>reward_url</th>\n",
              "    </tr>\n",
              "  </thead>\n",
              "  <tbody>\n",
              "    <tr>\n",
              "      <th>0</th>\n",
              "      <td>KS_000000</td>\n",
              "      <td>80</td>\n",
              "      <td>I will be an artist-in-residence at Elsewhere ...</td>\n",
              "      <td>art</td>\n",
              "      <td>3596</td>\n",
              "      <td>US</td>\n",
              "      <td>1325980505</td>\n",
              "      <td>USD</td>\n",
              "      <td>1334866560</td>\n",
              "      <td>1.0</td>\n",
              "      <td>...</td>\n",
              "      <td>1332969260</td>\n",
              "      <td>Elsewhere Studios artist-in-residency program!</td>\n",
              "      <td>3596.0</td>\n",
              "      <td>False</td>\n",
              "      <td>3596.0</td>\n",
              "      <td>Paonia, CO</td>\n",
              "      <td>True</td>\n",
              "      <td>mixed media</td>\n",
              "      <td>https://www.kickstarter.com/projects/hilaryeme...</td>\n",
              "      <td>https://www.kickstarter.com/projects/hilaryeme...</td>\n",
              "    </tr>\n",
              "    <tr>\n",
              "      <th>1</th>\n",
              "      <td>KS_000001</td>\n",
              "      <td>82</td>\n",
              "      <td>1000 Artists is a public art-making installati...</td>\n",
              "      <td>art</td>\n",
              "      <td>4586</td>\n",
              "      <td>US</td>\n",
              "      <td>1330926084</td>\n",
              "      <td>USD</td>\n",
              "      <td>1336440145</td>\n",
              "      <td>1.0</td>\n",
              "      <td>...</td>\n",
              "      <td>1332984145</td>\n",
              "      <td>1000 Artists: Presidential Inauguration 2013</td>\n",
              "      <td>4586.0</td>\n",
              "      <td>False</td>\n",
              "      <td>4586.0</td>\n",
              "      <td>Washington, DC</td>\n",
              "      <td>True</td>\n",
              "      <td>public art</td>\n",
              "      <td>https://www.kickstarter.com/projects/17146650/...</td>\n",
              "      <td>https://www.kickstarter.com/projects/17146650/...</td>\n",
              "    </tr>\n",
              "    <tr>\n",
              "      <th>2</th>\n",
              "      <td>KS_000002</td>\n",
              "      <td>21</td>\n",
              "      <td>The Sequel to ‘My Favorite Machine”, \"MyPhoneH...</td>\n",
              "      <td>art</td>\n",
              "      <td>5217</td>\n",
              "      <td>US</td>\n",
              "      <td>1332382894</td>\n",
              "      <td>USD</td>\n",
              "      <td>1338175739</td>\n",
              "      <td>1.0</td>\n",
              "      <td>...</td>\n",
              "      <td>1332991739</td>\n",
              "      <td>MyPhoneHenge</td>\n",
              "      <td>5217.0</td>\n",
              "      <td>False</td>\n",
              "      <td>5217.0</td>\n",
              "      <td>Frisco, TX</td>\n",
              "      <td>True</td>\n",
              "      <td>sculpture</td>\n",
              "      <td>https://www.kickstarter.com/projects/belveal/m...</td>\n",
              "      <td>https://www.kickstarter.com/projects/belveal/m...</td>\n",
              "    </tr>\n",
              "    <tr>\n",
              "      <th>3</th>\n",
              "      <td>KS_000003</td>\n",
              "      <td>37</td>\n",
              "      <td>A film exploring the role and value of art edu...</td>\n",
              "      <td>art</td>\n",
              "      <td>7160</td>\n",
              "      <td>GB</td>\n",
              "      <td>1332342451</td>\n",
              "      <td>USD</td>\n",
              "      <td>1334806096</td>\n",
              "      <td>1.0</td>\n",
              "      <td>...</td>\n",
              "      <td>1332991696</td>\n",
              "      <td>Walk-Through</td>\n",
              "      <td>7160.0</td>\n",
              "      <td>False</td>\n",
              "      <td>7160.0</td>\n",
              "      <td>Glasgow, UK</td>\n",
              "      <td>True</td>\n",
              "      <td>art</td>\n",
              "      <td>https://www.kickstarter.com/projects/107813091...</td>\n",
              "      <td>https://www.kickstarter.com/projects/107813091...</td>\n",
              "    </tr>\n",
              "    <tr>\n",
              "      <th>4</th>\n",
              "      <td>KS_000004</td>\n",
              "      <td>153</td>\n",
              "      <td>We need to build a kitchen for Habitable Space...</td>\n",
              "      <td>art</td>\n",
              "      <td>15445</td>\n",
              "      <td>US</td>\n",
              "      <td>1328562617</td>\n",
              "      <td>USD</td>\n",
              "      <td>1335584240</td>\n",
              "      <td>1.0</td>\n",
              "      <td>...</td>\n",
              "      <td>1332992240</td>\n",
              "      <td>A kitchen for Habitable Spaces</td>\n",
              "      <td>15445.0</td>\n",
              "      <td>False</td>\n",
              "      <td>15445.0</td>\n",
              "      <td>Kingsbury, TX</td>\n",
              "      <td>True</td>\n",
              "      <td>public art</td>\n",
              "      <td>https://www.kickstarter.com/projects/104409276...</td>\n",
              "      <td>https://www.kickstarter.com/projects/104409276...</td>\n",
              "    </tr>\n",
              "  </tbody>\n",
              "</table>\n",
              "<p>5 rows × 21 columns</p>\n",
              "</div>"
            ],
            "text/plain": [
              "  project_id  backers_count  \\\n",
              "0  KS_000000             80   \n",
              "1  KS_000001             82   \n",
              "2  KS_000002             21   \n",
              "3  KS_000003             37   \n",
              "4  KS_000004            153   \n",
              "\n",
              "                                               blurb category  \\\n",
              "0  I will be an artist-in-residence at Elsewhere ...      art   \n",
              "1  1000 Artists is a public art-making installati...      art   \n",
              "2  The Sequel to ‘My Favorite Machine”, \"MyPhoneH...      art   \n",
              "3  A film exploring the role and value of art edu...      art   \n",
              "4  We need to build a kitchen for Habitable Space...      art   \n",
              "\n",
              "   converted_pledged_amount country  created_at currency    deadline  fx_rate  \\\n",
              "0                      3596      US  1325980505      USD  1334866560      1.0   \n",
              "1                      4586      US  1330926084      USD  1336440145      1.0   \n",
              "2                      5217      US  1332382894      USD  1338175739      1.0   \n",
              "3                      7160      GB  1332342451      USD  1334806096      1.0   \n",
              "4                     15445      US  1328562617      USD  1335584240      1.0   \n",
              "\n",
              "   ...  launched_at                                            name  pledged  \\\n",
              "0  ...   1332969260  Elsewhere Studios artist-in-residency program!   3596.0   \n",
              "1  ...   1332984145    1000 Artists: Presidential Inauguration 2013   4586.0   \n",
              "2  ...   1332991739                                    MyPhoneHenge   5217.0   \n",
              "3  ...   1332991696                                    Walk-Through   7160.0   \n",
              "4  ...   1332992240                  A kitchen for Habitable Spaces  15445.0   \n",
              "\n",
              "   staff_pick  usd_pledged        location funded  subcategory  \\\n",
              "0       False       3596.0      Paonia, CO   True  mixed media   \n",
              "1       False       4586.0  Washington, DC   True   public art   \n",
              "2       False       5217.0      Frisco, TX   True    sculpture   \n",
              "3       False       7160.0     Glasgow, UK   True          art   \n",
              "4       False      15445.0   Kingsbury, TX   True   public art   \n",
              "\n",
              "                                         project_url  \\\n",
              "0  https://www.kickstarter.com/projects/hilaryeme...   \n",
              "1  https://www.kickstarter.com/projects/17146650/...   \n",
              "2  https://www.kickstarter.com/projects/belveal/m...   \n",
              "3  https://www.kickstarter.com/projects/107813091...   \n",
              "4  https://www.kickstarter.com/projects/104409276...   \n",
              "\n",
              "                                          reward_url  \n",
              "0  https://www.kickstarter.com/projects/hilaryeme...  \n",
              "1  https://www.kickstarter.com/projects/17146650/...  \n",
              "2  https://www.kickstarter.com/projects/belveal/m...  \n",
              "3  https://www.kickstarter.com/projects/107813091...  \n",
              "4  https://www.kickstarter.com/projects/104409276...  \n",
              "\n",
              "[5 rows x 21 columns]"
            ]
          },
          "execution_count": 5,
          "metadata": {},
          "output_type": "execute_result"
        }
      ],
      "source": [
        "db.head()"
      ]
    },
    {
      "cell_type": "code",
      "execution_count": 6,
      "id": "consistent-contract",
      "metadata": {
        "colab": {
          "base_uri": "https://localhost:8080/"
        },
        "id": "consistent-contract",
        "outputId": "19e955c7-9a73-4dae-8c5c-3b57e8640ebc"
      },
      "outputs": [
        {
          "data": {
            "text/plain": [
              "project_id                  0\n",
              "backers_count               0\n",
              "blurb                       2\n",
              "category                    0\n",
              "converted_pledged_amount    0\n",
              "country                     3\n",
              "created_at                  0\n",
              "currency                    0\n",
              "deadline                    0\n",
              "fx_rate                     0\n",
              "goal                        0\n",
              "launched_at                 0\n",
              "name                        1\n",
              "pledged                     0\n",
              "staff_pick                  0\n",
              "usd_pledged                 0\n",
              "location                    0\n",
              "funded                      0\n",
              "subcategory                 0\n",
              "project_url                 0\n",
              "reward_url                  0\n",
              "dtype: int64"
            ]
          },
          "execution_count": 6,
          "metadata": {},
          "output_type": "execute_result"
        }
      ],
      "source": [
        "db.isnull().sum()"
      ]
    },
    {
      "cell_type": "code",
      "execution_count": 7,
      "id": "cathedral-woman",
      "metadata": {
        "id": "cathedral-woman"
      },
      "outputs": [],
      "source": [
        "# replace NaaN values in country with \"?\"\n",
        "db.country.fillna('?',inplace = True)"
      ]
    },
    {
      "cell_type": "code",
      "execution_count": 8,
      "id": "southern-mattress",
      "metadata": {
        "id": "southern-mattress"
      },
      "outputs": [],
      "source": [
        "dbc1 = db.copy()"
      ]
    },
    {
      "cell_type": "code",
      "execution_count": 9,
      "id": "eligible-christian",
      "metadata": {
        "id": "eligible-christian"
      },
      "outputs": [],
      "source": [
        "#Choosing the columns for the new database\n",
        "dbc1=dbc1[['project_id','country','currency','category','goal','staff_pick','location','subcategory','funded']]"
      ]
    },
    {
      "cell_type": "code",
      "execution_count": 10,
      "id": "sustained-worker",
      "metadata": {
        "colab": {
          "base_uri": "https://localhost:8080/",
          "height": 205
        },
        "id": "sustained-worker",
        "outputId": "630f0de0-a89a-411d-daab-1df507e412a6"
      },
      "outputs": [
        {
          "data": {
            "text/html": [
              "<div>\n",
              "<style scoped>\n",
              "    .dataframe tbody tr th:only-of-type {\n",
              "        vertical-align: middle;\n",
              "    }\n",
              "\n",
              "    .dataframe tbody tr th {\n",
              "        vertical-align: top;\n",
              "    }\n",
              "\n",
              "    .dataframe thead th {\n",
              "        text-align: right;\n",
              "    }\n",
              "</style>\n",
              "<table border=\"1\" class=\"dataframe\">\n",
              "  <thead>\n",
              "    <tr style=\"text-align: right;\">\n",
              "      <th></th>\n",
              "      <th>project_id</th>\n",
              "      <th>country</th>\n",
              "      <th>currency</th>\n",
              "      <th>category</th>\n",
              "      <th>goal</th>\n",
              "      <th>staff_pick</th>\n",
              "      <th>location</th>\n",
              "      <th>subcategory</th>\n",
              "      <th>funded</th>\n",
              "    </tr>\n",
              "  </thead>\n",
              "  <tbody>\n",
              "    <tr>\n",
              "      <th>0</th>\n",
              "      <td>KS_000000</td>\n",
              "      <td>US</td>\n",
              "      <td>USD</td>\n",
              "      <td>art</td>\n",
              "      <td>2800.0</td>\n",
              "      <td>False</td>\n",
              "      <td>Paonia, CO</td>\n",
              "      <td>mixed media</td>\n",
              "      <td>True</td>\n",
              "    </tr>\n",
              "    <tr>\n",
              "      <th>1</th>\n",
              "      <td>KS_000001</td>\n",
              "      <td>US</td>\n",
              "      <td>USD</td>\n",
              "      <td>art</td>\n",
              "      <td>4500.0</td>\n",
              "      <td>False</td>\n",
              "      <td>Washington, DC</td>\n",
              "      <td>public art</td>\n",
              "      <td>True</td>\n",
              "    </tr>\n",
              "    <tr>\n",
              "      <th>2</th>\n",
              "      <td>KS_000002</td>\n",
              "      <td>US</td>\n",
              "      <td>USD</td>\n",
              "      <td>art</td>\n",
              "      <td>5000.0</td>\n",
              "      <td>False</td>\n",
              "      <td>Frisco, TX</td>\n",
              "      <td>sculpture</td>\n",
              "      <td>True</td>\n",
              "    </tr>\n",
              "    <tr>\n",
              "      <th>3</th>\n",
              "      <td>KS_000003</td>\n",
              "      <td>GB</td>\n",
              "      <td>USD</td>\n",
              "      <td>art</td>\n",
              "      <td>6500.0</td>\n",
              "      <td>False</td>\n",
              "      <td>Glasgow, UK</td>\n",
              "      <td>art</td>\n",
              "      <td>True</td>\n",
              "    </tr>\n",
              "    <tr>\n",
              "      <th>4</th>\n",
              "      <td>KS_000004</td>\n",
              "      <td>US</td>\n",
              "      <td>USD</td>\n",
              "      <td>art</td>\n",
              "      <td>15000.0</td>\n",
              "      <td>False</td>\n",
              "      <td>Kingsbury, TX</td>\n",
              "      <td>public art</td>\n",
              "      <td>True</td>\n",
              "    </tr>\n",
              "  </tbody>\n",
              "</table>\n",
              "</div>"
            ],
            "text/plain": [
              "  project_id country currency category     goal  staff_pick        location  \\\n",
              "0  KS_000000      US      USD      art   2800.0       False      Paonia, CO   \n",
              "1  KS_000001      US      USD      art   4500.0       False  Washington, DC   \n",
              "2  KS_000002      US      USD      art   5000.0       False      Frisco, TX   \n",
              "3  KS_000003      GB      USD      art   6500.0       False     Glasgow, UK   \n",
              "4  KS_000004      US      USD      art  15000.0       False   Kingsbury, TX   \n",
              "\n",
              "   subcategory  funded  \n",
              "0  mixed media    True  \n",
              "1   public art    True  \n",
              "2    sculpture    True  \n",
              "3          art    True  \n",
              "4   public art    True  "
            ]
          },
          "execution_count": 10,
          "metadata": {},
          "output_type": "execute_result"
        }
      ],
      "source": [
        "dbc1.head()"
      ]
    },
    {
      "cell_type": "code",
      "execution_count": 11,
      "id": "established-norfolk",
      "metadata": {
        "colab": {
          "base_uri": "https://localhost:8080/"
        },
        "id": "established-norfolk",
        "outputId": "300851f4-b128-4cd4-a448-3de250a8b22a"
      },
      "outputs": [
        {
          "data": {
            "text/plain": [
              "project_id     0\n",
              "country        0\n",
              "currency       0\n",
              "category       0\n",
              "goal           0\n",
              "staff_pick     0\n",
              "location       0\n",
              "subcategory    0\n",
              "funded         0\n",
              "dtype: int64"
            ]
          },
          "execution_count": 11,
          "metadata": {},
          "output_type": "execute_result"
        }
      ],
      "source": [
        "dbc1.isnull().sum()"
      ]
    },
    {
      "cell_type": "code",
      "execution_count": 12,
      "id": "freelance-maldives",
      "metadata": {
        "id": "freelance-maldives"
      },
      "outputs": [],
      "source": [
        "# converting goal into intervals\n",
        "dbc1['goal'] = pd.cut(dbc1.goal,\n",
        "                      bins=[0,5000,10000,25000,50000,75000,100000,250000,500000,750000,1000000,2500000,5000000,7500000,10000000,25000000,50000000,75000000,100000000],\n",
        "                      labels=['1','2','3','4','5','6','7','8','9','10','11','12','13','14','15','16','17','18'])"
      ]
    },
    {
      "cell_type": "code",
      "execution_count": 13,
      "id": "hungarian-center",
      "metadata": {
        "colab": {
          "base_uri": "https://localhost:8080/"
        },
        "id": "hungarian-center",
        "outputId": "ce7d750e-7fa7-4bb3-fbfd-b2cc76e7f73c"
      },
      "outputs": [
        {
          "data": {
            "text/plain": [
              "0        1\n",
              "1        1\n",
              "2        1\n",
              "3        2\n",
              "4        3\n",
              "        ..\n",
              "99995    2\n",
              "99996    3\n",
              "99997    2\n",
              "99998    3\n",
              "99999    1\n",
              "Name: goal, Length: 100000, dtype: category\n",
              "Categories (18, object): ['1' < '2' < '3' < '4' ... '15' < '16' < '17' < '18']"
            ]
          },
          "execution_count": 13,
          "metadata": {},
          "output_type": "execute_result"
        }
      ],
      "source": [
        "dbc1['goal']"
      ]
    },
    {
      "cell_type": "code",
      "execution_count": 14,
      "id": "injured-fitness",
      "metadata": {
        "id": "injured-fitness"
      },
      "outputs": [],
      "source": [
        "#One-hot encoding the categorical data\n",
        "dbc1_hot = pd.get_dummies(dbc1, drop_first=True, columns=['country','category', 'currency','staff_pick','location','subcategory',])"
      ]
    },
    {
      "cell_type": "code",
      "execution_count": 15,
      "id": "numerous-spice",
      "metadata": {
        "colab": {
          "base_uri": "https://localhost:8080/",
          "height": 272
        },
        "id": "numerous-spice",
        "outputId": "9c1553df-2027-4827-bdf1-dee6a88eabdc"
      },
      "outputs": [
        {
          "data": {
            "text/html": [
              "<div>\n",
              "<style scoped>\n",
              "    .dataframe tbody tr th:only-of-type {\n",
              "        vertical-align: middle;\n",
              "    }\n",
              "\n",
              "    .dataframe tbody tr th {\n",
              "        vertical-align: top;\n",
              "    }\n",
              "\n",
              "    .dataframe thead th {\n",
              "        text-align: right;\n",
              "    }\n",
              "</style>\n",
              "<table border=\"1\" class=\"dataframe\">\n",
              "  <thead>\n",
              "    <tr style=\"text-align: right;\">\n",
              "      <th></th>\n",
              "      <th>project_id</th>\n",
              "      <th>goal</th>\n",
              "      <th>funded</th>\n",
              "      <th>country_AE</th>\n",
              "      <th>country_AF</th>\n",
              "      <th>country_AG</th>\n",
              "      <th>country_AM</th>\n",
              "      <th>country_AQ</th>\n",
              "      <th>country_AR</th>\n",
              "      <th>country_AT</th>\n",
              "      <th>...</th>\n",
              "      <th>subcategory_wearables</th>\n",
              "      <th>subcategory_weaving</th>\n",
              "      <th>subcategory_web</th>\n",
              "      <th>subcategory_webcomics</th>\n",
              "      <th>subcategory_webseries</th>\n",
              "      <th>subcategory_woodworking</th>\n",
              "      <th>subcategory_workshops</th>\n",
              "      <th>subcategory_world music</th>\n",
              "      <th>subcategory_young adult</th>\n",
              "      <th>subcategory_zines</th>\n",
              "    </tr>\n",
              "  </thead>\n",
              "  <tbody>\n",
              "    <tr>\n",
              "      <th>0</th>\n",
              "      <td>KS_000000</td>\n",
              "      <td>1</td>\n",
              "      <td>True</td>\n",
              "      <td>0</td>\n",
              "      <td>0</td>\n",
              "      <td>0</td>\n",
              "      <td>0</td>\n",
              "      <td>0</td>\n",
              "      <td>0</td>\n",
              "      <td>0</td>\n",
              "      <td>...</td>\n",
              "      <td>0</td>\n",
              "      <td>0</td>\n",
              "      <td>0</td>\n",
              "      <td>0</td>\n",
              "      <td>0</td>\n",
              "      <td>0</td>\n",
              "      <td>0</td>\n",
              "      <td>0</td>\n",
              "      <td>0</td>\n",
              "      <td>0</td>\n",
              "    </tr>\n",
              "    <tr>\n",
              "      <th>1</th>\n",
              "      <td>KS_000001</td>\n",
              "      <td>1</td>\n",
              "      <td>True</td>\n",
              "      <td>0</td>\n",
              "      <td>0</td>\n",
              "      <td>0</td>\n",
              "      <td>0</td>\n",
              "      <td>0</td>\n",
              "      <td>0</td>\n",
              "      <td>0</td>\n",
              "      <td>...</td>\n",
              "      <td>0</td>\n",
              "      <td>0</td>\n",
              "      <td>0</td>\n",
              "      <td>0</td>\n",
              "      <td>0</td>\n",
              "      <td>0</td>\n",
              "      <td>0</td>\n",
              "      <td>0</td>\n",
              "      <td>0</td>\n",
              "      <td>0</td>\n",
              "    </tr>\n",
              "    <tr>\n",
              "      <th>2</th>\n",
              "      <td>KS_000002</td>\n",
              "      <td>1</td>\n",
              "      <td>True</td>\n",
              "      <td>0</td>\n",
              "      <td>0</td>\n",
              "      <td>0</td>\n",
              "      <td>0</td>\n",
              "      <td>0</td>\n",
              "      <td>0</td>\n",
              "      <td>0</td>\n",
              "      <td>...</td>\n",
              "      <td>0</td>\n",
              "      <td>0</td>\n",
              "      <td>0</td>\n",
              "      <td>0</td>\n",
              "      <td>0</td>\n",
              "      <td>0</td>\n",
              "      <td>0</td>\n",
              "      <td>0</td>\n",
              "      <td>0</td>\n",
              "      <td>0</td>\n",
              "    </tr>\n",
              "    <tr>\n",
              "      <th>3</th>\n",
              "      <td>KS_000003</td>\n",
              "      <td>2</td>\n",
              "      <td>True</td>\n",
              "      <td>0</td>\n",
              "      <td>0</td>\n",
              "      <td>0</td>\n",
              "      <td>0</td>\n",
              "      <td>0</td>\n",
              "      <td>0</td>\n",
              "      <td>0</td>\n",
              "      <td>...</td>\n",
              "      <td>0</td>\n",
              "      <td>0</td>\n",
              "      <td>0</td>\n",
              "      <td>0</td>\n",
              "      <td>0</td>\n",
              "      <td>0</td>\n",
              "      <td>0</td>\n",
              "      <td>0</td>\n",
              "      <td>0</td>\n",
              "      <td>0</td>\n",
              "    </tr>\n",
              "    <tr>\n",
              "      <th>4</th>\n",
              "      <td>KS_000004</td>\n",
              "      <td>3</td>\n",
              "      <td>True</td>\n",
              "      <td>0</td>\n",
              "      <td>0</td>\n",
              "      <td>0</td>\n",
              "      <td>0</td>\n",
              "      <td>0</td>\n",
              "      <td>0</td>\n",
              "      <td>0</td>\n",
              "      <td>...</td>\n",
              "      <td>0</td>\n",
              "      <td>0</td>\n",
              "      <td>0</td>\n",
              "      <td>0</td>\n",
              "      <td>0</td>\n",
              "      <td>0</td>\n",
              "      <td>0</td>\n",
              "      <td>0</td>\n",
              "      <td>0</td>\n",
              "      <td>0</td>\n",
              "    </tr>\n",
              "  </tbody>\n",
              "</table>\n",
              "<p>5 rows × 10633 columns</p>\n",
              "</div>"
            ],
            "text/plain": [
              "  project_id goal  funded  country_AE  country_AF  country_AG  country_AM  \\\n",
              "0  KS_000000    1    True           0           0           0           0   \n",
              "1  KS_000001    1    True           0           0           0           0   \n",
              "2  KS_000002    1    True           0           0           0           0   \n",
              "3  KS_000003    2    True           0           0           0           0   \n",
              "4  KS_000004    3    True           0           0           0           0   \n",
              "\n",
              "   country_AQ  country_AR  country_AT  ...  subcategory_wearables  \\\n",
              "0           0           0           0  ...                      0   \n",
              "1           0           0           0  ...                      0   \n",
              "2           0           0           0  ...                      0   \n",
              "3           0           0           0  ...                      0   \n",
              "4           0           0           0  ...                      0   \n",
              "\n",
              "   subcategory_weaving  subcategory_web  subcategory_webcomics  \\\n",
              "0                    0                0                      0   \n",
              "1                    0                0                      0   \n",
              "2                    0                0                      0   \n",
              "3                    0                0                      0   \n",
              "4                    0                0                      0   \n",
              "\n",
              "   subcategory_webseries  subcategory_woodworking  subcategory_workshops  \\\n",
              "0                      0                        0                      0   \n",
              "1                      0                        0                      0   \n",
              "2                      0                        0                      0   \n",
              "3                      0                        0                      0   \n",
              "4                      0                        0                      0   \n",
              "\n",
              "   subcategory_world music  subcategory_young adult  subcategory_zines  \n",
              "0                        0                        0                  0  \n",
              "1                        0                        0                  0  \n",
              "2                        0                        0                  0  \n",
              "3                        0                        0                  0  \n",
              "4                        0                        0                  0  \n",
              "\n",
              "[5 rows x 10633 columns]"
            ]
          },
          "execution_count": 15,
          "metadata": {},
          "output_type": "execute_result"
        }
      ],
      "source": [
        "dbc1_hot.head()"
      ]
    },
    {
      "cell_type": "code",
      "execution_count": 16,
      "id": "increased-elizabeth",
      "metadata": {
        "id": "increased-elizabeth"
      },
      "outputs": [],
      "source": [
        "#Get Target data \n",
        "y = dbc1_hot['funded']\n",
        "\n",
        "#Load X Variables into a Pandas Dataframe with columns \n",
        "X = dbc1_hot.drop(['project_id','funded'], axis = 1)"
      ]
    },
    {
      "cell_type": "code",
      "execution_count": 17,
      "id": "ordered-neutral",
      "metadata": {
        "colab": {
          "base_uri": "https://localhost:8080/"
        },
        "id": "ordered-neutral",
        "outputId": "15c81381-c595-4ec9-d48b-0c05d3116a4d"
      },
      "outputs": [
        {
          "name": "stdout",
          "output_type": "stream",
          "text": [
            "X : (100000, 10631)\n"
          ]
        }
      ],
      "source": [
        "print(f'X : {X.shape}')"
      ]
    },
    {
      "cell_type": "code",
      "execution_count": 18,
      "id": "immune-bundle",
      "metadata": {
        "id": "immune-bundle"
      },
      "outputs": [],
      "source": [
        "# Divide Data into Train and test\n",
        "X_train, X_test, y_train, y_test = train_test_split(X, y, test_size=0.20, random_state=101)"
      ]
    },
    {
      "cell_type": "code",
      "execution_count": 19,
      "id": "ecological-faculty",
      "metadata": {
        "colab": {
          "base_uri": "https://localhost:8080/"
        },
        "id": "ecological-faculty",
        "outputId": "a7d53b90-1b6d-4276-b026-2e4fec539d30"
      },
      "outputs": [
        {
          "name": "stdout",
          "output_type": "stream",
          "text": [
            "X_train : (80000, 10631)\n",
            "y_train : (80000,)\n",
            "X_test : (20000, 10631)\n",
            "y_test : (20000,)\n"
          ]
        }
      ],
      "source": [
        "print(f'X_train : {X_train.shape}')\n",
        "print(f'y_train : {y_train.shape}')\n",
        "print(f'X_test : {X_test.shape}')\n",
        "print(f'y_test : {y_test.shape}')"
      ]
    },
    {
      "cell_type": "code",
      "execution_count": 20,
      "id": "connected-evening",
      "metadata": {
        "id": "connected-evening"
      },
      "outputs": [],
      "source": [
        "# Number of trees in random forest\n",
        "n_estimators = [int(x) for x in np.linspace(start = 10, stop = 100, num = 10)]\n",
        "\n",
        "# Number of features to consider at every split\n",
        "max_features = ['auto', 'sqrt']\n",
        "\n",
        "# Maximum number of levels in tree\n",
        "max_depth = [2,6]\n",
        "\n",
        "# Minimum number of samples required to split a node\n",
        "min_samples_split = [2, 5]\n",
        "\n",
        "# Minimum number of samples required at each leaf node\n",
        "min_samples_leaf = [1, 2]\n",
        "\n",
        "# Method of selecting samples for training each tree\n",
        "bootstrap = [True, False]"
      ]
    },
    {
      "cell_type": "code",
      "execution_count": 21,
      "id": "ongoing-traffic",
      "metadata": {
        "colab": {
          "base_uri": "https://localhost:8080/"
        },
        "id": "ongoing-traffic",
        "outputId": "00459277-771f-4895-f851-7cb6dd0fce20"
      },
      "outputs": [
        {
          "name": "stdout",
          "output_type": "stream",
          "text": [
            "{'max_features': ['auto', 'sqrt'], 'max_depth': [2, 6]}\n"
          ]
        }
      ],
      "source": [
        "# Create the param grid\n",
        "param_grid = {#'n_estimators': n_estimators,\n",
        "               'max_features': max_features,\n",
        "               'max_depth': max_depth,}\n",
        "               #'min_samples_split': min_samples_split,\n",
        "               #'min_samples_leaf': min_samples_leaf,\n",
        "              # 'bootstrap': bootstrap}\n",
        "print(param_grid)\n"
      ]
    },
    {
      "cell_type": "code",
      "execution_count": 34,
      "id": "grand-manual",
      "metadata": {
        "id": "grand-manual"
      },
      "outputs": [],
      "source": [
        "#The max_depth parameter is adjusted by hand since the grid search for deeper levels took a long time to compute.\n",
        "rf_Model = RandomForestClassifier(max_depth = 70, max_features = 'auto')"
      ]
    },
    {
      "cell_type": "code",
      "execution_count": 23,
      "id": "indirect-identification",
      "metadata": {
        "id": "indirect-identification"
      },
      "outputs": [],
      "source": [
        "from sklearn.model_selection import GridSearchCV\n",
        "rf_Grid = GridSearchCV(estimator = rf_Model, param_grid = param_grid, cv = 2, verbose=True, n_jobs = 2)"
      ]
    },
    {
      "cell_type": "code",
      "execution_count": 24,
      "id": "employed-shaft",
      "metadata": {
        "colab": {
          "base_uri": "https://localhost:8080/"
        },
        "id": "employed-shaft",
        "outputId": "3932e6e6-41b9-40d5-f7e6-35895d353f53"
      },
      "outputs": [],
      "source": [
        "#rf_Grid.fit(X_train, y_train)"
      ]
    },
    {
      "cell_type": "code",
      "execution_count": 25,
      "id": "academic-ministry",
      "metadata": {
        "id": "academic-ministry"
      },
      "outputs": [],
      "source": [
        "#rf_Grid.best_params_ "
      ]
    },
    {
      "cell_type": "code",
      "execution_count": 26,
      "metadata": {},
      "outputs": [],
      "source": [
        "from sklearn.model_selection import cross_val_score\n",
        "from sklearn.model_selection import RepeatedKFold\n",
        "from numpy import mean\n",
        "from numpy import std"
      ]
    },
    {
      "cell_type": "code",
      "execution_count": 27,
      "metadata": {},
      "outputs": [],
      "source": [
        "cv = RepeatedKFold(n_splits=10, n_repeats=3, random_state=1)"
      ]
    },
    {
      "cell_type": "code",
      "execution_count": 35,
      "metadata": {},
      "outputs": [],
      "source": [
        "scores = cross_val_score(rf_Model, X_test, y_test, scoring='accuracy', cv=cv, n_jobs=-1)"
      ]
    },
    {
      "cell_type": "code",
      "execution_count": 36,
      "metadata": {},
      "outputs": [
        {
          "data": {
            "text/plain": [
              "array([0.757 , 0.7485, 0.765 , 0.763 , 0.761 , 0.758 , 0.7505, 0.7745,\n",
              "       0.761 , 0.773 , 0.7615, 0.748 , 0.7655, 0.7675, 0.7525, 0.752 ,\n",
              "       0.7655, 0.769 , 0.7605, 0.7715, 0.7685, 0.7515, 0.7715, 0.7545,\n",
              "       0.7565, 0.746 , 0.773 , 0.7635, 0.7625, 0.759 ])"
            ]
          },
          "execution_count": 36,
          "metadata": {},
          "output_type": "execute_result"
        }
      ],
      "source": [
        "scores"
      ]
    }
  ],
  "metadata": {
    "colab": {
      "collapsed_sections": [],
      "name": "RandomForest.ipynb",
      "provenance": []
    },
    "kernelspec": {
      "display_name": "Python 3",
      "language": "python",
      "name": "python3"
    },
    "language_info": {
      "codemirror_mode": {
        "name": "ipython",
        "version": 3
      },
      "file_extension": ".py",
      "mimetype": "text/x-python",
      "name": "python",
      "nbconvert_exporter": "python",
      "pygments_lexer": "ipython3",
      "version": "3.9.7"
    }
  },
  "nbformat": 4,
  "nbformat_minor": 5
}
