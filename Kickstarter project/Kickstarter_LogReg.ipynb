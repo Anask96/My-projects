{
  "nbformat": 4,
  "nbformat_minor": 5,
  "metadata": {
    "kernelspec": {
      "display_name": "Python 3.9.1 64-bit",
      "language": "python",
      "name": "python39164bitf7ba40ab82b94cc2b4f23439903e0d1c"
    },
    "language_info": {
      "codemirror_mode": {
        "name": "ipython",
        "version": 3
      },
      "file_extension": ".py",
      "mimetype": "text/x-python",
      "name": "python",
      "nbconvert_exporter": "python",
      "pygments_lexer": "ipython3",
      "version": "3.9.7"
    },
    "colab": {
      "name": "Kickstarter_LogReg.ipynb",
      "provenance": [],
      "collapsed_sections": []
    }
  },
  "cells": [
    {
      "cell_type": "code",
      "metadata": {
        "id": "artistic-chicken"
      },
      "source": [
        "# Import necessary modules and functions\n",
        "\n",
        "import pandas as pd\n",
        "import seaborn as sns\n",
        "import numpy as np\n",
        "\n",
        "import matplotlib.pyplot as plt\n",
        "%matplotlib inline\n",
        "\n",
        "from matplotlib.pylab import rcParams\n",
        "rcParams['figure.figsize'] = 16, 8\n",
        "\n",
        "from scipy.stats import norm\n",
        "from scipy import stats\n",
        "\n",
        "from sklearn.preprocessing import StandardScaler\n",
        "from sklearn.model_selection import train_test_split\n",
        "from sklearn.linear_model import LinearRegression\n",
        "from sklearn.linear_model import LogisticRegression\n",
        "from sklearn.ensemble import ExtraTreesClassifier\n",
        "from sklearn.model_selection import cross_val_score\n",
        "from sklearn.metrics import confusion_matrix\n",
        "\n",
        "import warnings\n",
        "#warnings.filterwarnings('ignore')\n",
        "from datetime import datetime"
      ],
      "id": "artistic-chicken",
      "execution_count": 113,
      "outputs": []
    },
    {
      "cell_type": "code",
      "metadata": {
        "colab": {
          "base_uri": "https://localhost:8080/"
        },
        "id": "Fqb44zYrSwhe",
        "outputId": "6e1b6aa8-e632-4ed9-f5b4-1cc091455d69"
      },
      "source": [
        "from google.colab import drive\n",
        "drive.mount('/content/drive')"
      ],
      "id": "Fqb44zYrSwhe",
      "execution_count": 114,
      "outputs": [
        {
          "output_type": "stream",
          "name": "stdout",
          "text": [
            "Drive already mounted at /content/drive; to attempt to forcibly remount, call drive.mount(\"/content/drive\", force_remount=True).\n"
          ]
        }
      ]
    },
    {
      "cell_type": "code",
      "metadata": {
        "id": "partial-yield"
      },
      "source": [
        "# Import the 'HousePrices.csv' file into a Pandas DataFrame.\n",
        "\n",
        "db = pd.read_csv(\"/content/drive/MyDrive/IDS/KS_train_data.csv\",delimiter=',')"
      ],
      "id": "partial-yield",
      "execution_count": 115,
      "outputs": []
    },
    {
      "cell_type": "code",
      "metadata": {
        "colab": {
          "base_uri": "https://localhost:8080/",
          "height": 530
        },
        "id": "understood-microwave",
        "outputId": "e210ee29-fac7-4571-c434-e90538ecc48f"
      },
      "source": [
        "db.head()"
      ],
      "id": "understood-microwave",
      "execution_count": 116,
      "outputs": [
        {
          "output_type": "execute_result",
          "data": {
            "text/html": [
              "<div>\n",
              "<style scoped>\n",
              "    .dataframe tbody tr th:only-of-type {\n",
              "        vertical-align: middle;\n",
              "    }\n",
              "\n",
              "    .dataframe tbody tr th {\n",
              "        vertical-align: top;\n",
              "    }\n",
              "\n",
              "    .dataframe thead th {\n",
              "        text-align: right;\n",
              "    }\n",
              "</style>\n",
              "<table border=\"1\" class=\"dataframe\">\n",
              "  <thead>\n",
              "    <tr style=\"text-align: right;\">\n",
              "      <th></th>\n",
              "      <th>project_id</th>\n",
              "      <th>backers_count</th>\n",
              "      <th>blurb</th>\n",
              "      <th>category</th>\n",
              "      <th>converted_pledged_amount</th>\n",
              "      <th>country</th>\n",
              "      <th>created_at</th>\n",
              "      <th>currency</th>\n",
              "      <th>deadline</th>\n",
              "      <th>fx_rate</th>\n",
              "      <th>goal</th>\n",
              "      <th>launched_at</th>\n",
              "      <th>name</th>\n",
              "      <th>pledged</th>\n",
              "      <th>staff_pick</th>\n",
              "      <th>usd_pledged</th>\n",
              "      <th>location</th>\n",
              "      <th>funded</th>\n",
              "      <th>subcategory</th>\n",
              "      <th>project_url</th>\n",
              "      <th>reward_url</th>\n",
              "    </tr>\n",
              "  </thead>\n",
              "  <tbody>\n",
              "    <tr>\n",
              "      <th>0</th>\n",
              "      <td>KS_000000</td>\n",
              "      <td>80</td>\n",
              "      <td>I will be an artist-in-residence at Elsewhere ...</td>\n",
              "      <td>art</td>\n",
              "      <td>3596</td>\n",
              "      <td>US</td>\n",
              "      <td>1325980505</td>\n",
              "      <td>USD</td>\n",
              "      <td>1334866560</td>\n",
              "      <td>1.0</td>\n",
              "      <td>2800.0</td>\n",
              "      <td>1332969260</td>\n",
              "      <td>Elsewhere Studios artist-in-residency program!</td>\n",
              "      <td>3596.0</td>\n",
              "      <td>False</td>\n",
              "      <td>3596.0</td>\n",
              "      <td>Paonia, CO</td>\n",
              "      <td>True</td>\n",
              "      <td>mixed media</td>\n",
              "      <td>https://www.kickstarter.com/projects/hilaryeme...</td>\n",
              "      <td>https://www.kickstarter.com/projects/hilaryeme...</td>\n",
              "    </tr>\n",
              "    <tr>\n",
              "      <th>1</th>\n",
              "      <td>KS_000001</td>\n",
              "      <td>82</td>\n",
              "      <td>1000 Artists is a public art-making installati...</td>\n",
              "      <td>art</td>\n",
              "      <td>4586</td>\n",
              "      <td>US</td>\n",
              "      <td>1330926084</td>\n",
              "      <td>USD</td>\n",
              "      <td>1336440145</td>\n",
              "      <td>1.0</td>\n",
              "      <td>4500.0</td>\n",
              "      <td>1332984145</td>\n",
              "      <td>1000 Artists: Presidential Inauguration 2013</td>\n",
              "      <td>4586.0</td>\n",
              "      <td>False</td>\n",
              "      <td>4586.0</td>\n",
              "      <td>Washington, DC</td>\n",
              "      <td>True</td>\n",
              "      <td>public art</td>\n",
              "      <td>https://www.kickstarter.com/projects/17146650/...</td>\n",
              "      <td>https://www.kickstarter.com/projects/17146650/...</td>\n",
              "    </tr>\n",
              "    <tr>\n",
              "      <th>2</th>\n",
              "      <td>KS_000002</td>\n",
              "      <td>21</td>\n",
              "      <td>The Sequel to ‘My Favorite Machine”, \"MyPhoneH...</td>\n",
              "      <td>art</td>\n",
              "      <td>5217</td>\n",
              "      <td>US</td>\n",
              "      <td>1332382894</td>\n",
              "      <td>USD</td>\n",
              "      <td>1338175739</td>\n",
              "      <td>1.0</td>\n",
              "      <td>5000.0</td>\n",
              "      <td>1332991739</td>\n",
              "      <td>MyPhoneHenge</td>\n",
              "      <td>5217.0</td>\n",
              "      <td>False</td>\n",
              "      <td>5217.0</td>\n",
              "      <td>Frisco, TX</td>\n",
              "      <td>True</td>\n",
              "      <td>sculpture</td>\n",
              "      <td>https://www.kickstarter.com/projects/belveal/m...</td>\n",
              "      <td>https://www.kickstarter.com/projects/belveal/m...</td>\n",
              "    </tr>\n",
              "    <tr>\n",
              "      <th>3</th>\n",
              "      <td>KS_000003</td>\n",
              "      <td>37</td>\n",
              "      <td>A film exploring the role and value of art edu...</td>\n",
              "      <td>art</td>\n",
              "      <td>7160</td>\n",
              "      <td>GB</td>\n",
              "      <td>1332342451</td>\n",
              "      <td>USD</td>\n",
              "      <td>1334806096</td>\n",
              "      <td>1.0</td>\n",
              "      <td>6500.0</td>\n",
              "      <td>1332991696</td>\n",
              "      <td>Walk-Through</td>\n",
              "      <td>7160.0</td>\n",
              "      <td>False</td>\n",
              "      <td>7160.0</td>\n",
              "      <td>Glasgow, UK</td>\n",
              "      <td>True</td>\n",
              "      <td>art</td>\n",
              "      <td>https://www.kickstarter.com/projects/107813091...</td>\n",
              "      <td>https://www.kickstarter.com/projects/107813091...</td>\n",
              "    </tr>\n",
              "    <tr>\n",
              "      <th>4</th>\n",
              "      <td>KS_000004</td>\n",
              "      <td>153</td>\n",
              "      <td>We need to build a kitchen for Habitable Space...</td>\n",
              "      <td>art</td>\n",
              "      <td>15445</td>\n",
              "      <td>US</td>\n",
              "      <td>1328562617</td>\n",
              "      <td>USD</td>\n",
              "      <td>1335584240</td>\n",
              "      <td>1.0</td>\n",
              "      <td>15000.0</td>\n",
              "      <td>1332992240</td>\n",
              "      <td>A kitchen for Habitable Spaces</td>\n",
              "      <td>15445.0</td>\n",
              "      <td>False</td>\n",
              "      <td>15445.0</td>\n",
              "      <td>Kingsbury, TX</td>\n",
              "      <td>True</td>\n",
              "      <td>public art</td>\n",
              "      <td>https://www.kickstarter.com/projects/104409276...</td>\n",
              "      <td>https://www.kickstarter.com/projects/104409276...</td>\n",
              "    </tr>\n",
              "  </tbody>\n",
              "</table>\n",
              "</div>"
            ],
            "text/plain": [
              "  project_id  ...                                         reward_url\n",
              "0  KS_000000  ...  https://www.kickstarter.com/projects/hilaryeme...\n",
              "1  KS_000001  ...  https://www.kickstarter.com/projects/17146650/...\n",
              "2  KS_000002  ...  https://www.kickstarter.com/projects/belveal/m...\n",
              "3  KS_000003  ...  https://www.kickstarter.com/projects/107813091...\n",
              "4  KS_000004  ...  https://www.kickstarter.com/projects/104409276...\n",
              "\n",
              "[5 rows x 21 columns]"
            ]
          },
          "metadata": {},
          "execution_count": 116
        }
      ]
    },
    {
      "cell_type": "code",
      "metadata": {
        "id": "attempted-catalyst"
      },
      "source": [
        "dbFunded = db.loc[db['funded'] == True]"
      ],
      "id": "attempted-catalyst",
      "execution_count": 117,
      "outputs": []
    },
    {
      "cell_type": "code",
      "metadata": {
        "colab": {
          "base_uri": "https://localhost:8080/"
        },
        "id": "behind-leone",
        "outputId": "50e538c2-06b2-4605-f3ec-1edc5ce5e34e"
      },
      "source": [
        "# get top 10 most frequent funded coutries\n",
        "n = 10\n",
        "topc=dbFunded['country'].value_counts()[:n].index.tolist()\n",
        "topc"
      ],
      "id": "behind-leone",
      "execution_count": 118,
      "outputs": [
        {
          "output_type": "execute_result",
          "data": {
            "text/plain": [
              "['US', 'GB', 'CA', 'AU', '?', 'DE', 'FR', 'SE', 'MX', 'NL']"
            ]
          },
          "metadata": {},
          "execution_count": 118
        }
      ]
    },
    {
      "cell_type": "code",
      "metadata": {
        "id": "south-honey"
      },
      "source": [
        "dbc2 = db.copy()"
      ],
      "id": "south-honey",
      "execution_count": 119,
      "outputs": []
    },
    {
      "cell_type": "code",
      "metadata": {
        "colab": {
          "base_uri": "https://localhost:8080/"
        },
        "id": "horizontal-notebook",
        "outputId": "3b813f2d-cdc5-4985-81f2-c6f3d10a3bbb"
      },
      "source": [
        "dbc2.columns"
      ],
      "id": "horizontal-notebook",
      "execution_count": 120,
      "outputs": [
        {
          "output_type": "execute_result",
          "data": {
            "text/plain": [
              "Index(['project_id', 'backers_count', 'blurb', 'category',\n",
              "       'converted_pledged_amount', 'country', 'created_at', 'currency',\n",
              "       'deadline', 'fx_rate', 'goal', 'launched_at', 'name', 'pledged',\n",
              "       'staff_pick', 'usd_pledged', 'location', 'funded', 'subcategory',\n",
              "       'project_url', 'reward_url'],\n",
              "      dtype='object')"
            ]
          },
          "metadata": {},
          "execution_count": 120
        }
      ]
    },
    {
      "cell_type": "code",
      "metadata": {
        "id": "fifth-drawing"
      },
      "source": [
        "dbc2.drop(['backers_count', 'blurb',\n",
        "       'converted_pledged_amount', 'created_at',\n",
        "       'deadline', 'fx_rate', 'launched_at', 'name', 'pledged',\n",
        "     'usd_pledged','project_url', 'reward_url','location', 'subcategory'], axis = 1, inplace=True)"
      ],
      "id": "fifth-drawing",
      "execution_count": 121,
      "outputs": []
    },
    {
      "cell_type": "code",
      "metadata": {
        "colab": {
          "base_uri": "https://localhost:8080/"
        },
        "id": "marked-serbia",
        "outputId": "40eaf848-3124-4016-81b1-52aeaee8715e"
      },
      "source": [
        "dbc2.columns"
      ],
      "id": "marked-serbia",
      "execution_count": 122,
      "outputs": [
        {
          "output_type": "execute_result",
          "data": {
            "text/plain": [
              "Index(['project_id', 'category', 'country', 'currency', 'goal', 'staff_pick',\n",
              "       'funded'],\n",
              "      dtype='object')"
            ]
          },
          "metadata": {},
          "execution_count": 122
        }
      ]
    },
    {
      "cell_type": "code",
      "metadata": {
        "id": "disciplinary-radar"
      },
      "source": [
        "# if country not part of top10 then rename to 'other'\n",
        "dbc2.loc[~dbc2.country.isin(topc), 'country'] = 'other'"
      ],
      "id": "disciplinary-radar",
      "execution_count": 123,
      "outputs": []
    },
    {
      "cell_type": "code",
      "metadata": {
        "colab": {
          "base_uri": "https://localhost:8080/"
        },
        "id": "fluid-barrier",
        "outputId": "5417670e-689b-4103-8c4a-e4515bb7cbdf"
      },
      "source": [
        "dbc2.country"
      ],
      "id": "fluid-barrier",
      "execution_count": 124,
      "outputs": [
        {
          "output_type": "execute_result",
          "data": {
            "text/plain": [
              "0        US\n",
              "1        US\n",
              "2        US\n",
              "3        GB\n",
              "4        US\n",
              "         ..\n",
              "99995    US\n",
              "99996    US\n",
              "99997    US\n",
              "99998    US\n",
              "99999    GB\n",
              "Name: country, Length: 100000, dtype: object"
            ]
          },
          "metadata": {},
          "execution_count": 124
        }
      ]
    },
    {
      "cell_type": "code",
      "metadata": {
        "colab": {
          "base_uri": "https://localhost:8080/"
        },
        "id": "listed-ancient",
        "outputId": "03b9c233-49b2-4f5e-d538-68586730184b"
      },
      "source": [
        "dbc2.country.unique()"
      ],
      "id": "listed-ancient",
      "execution_count": 125,
      "outputs": [
        {
          "output_type": "execute_result",
          "data": {
            "text/plain": [
              "array(['US', 'GB', 'CA', 'other', 'AU', 'FR', 'NL', 'MX', 'DE', '?', 'SE'],\n",
              "      dtype=object)"
            ]
          },
          "metadata": {},
          "execution_count": 125
        }
      ]
    },
    {
      "cell_type": "code",
      "metadata": {
        "colab": {
          "base_uri": "https://localhost:8080/"
        },
        "id": "checked-dover",
        "outputId": "8e006279-c5a9-492f-8524-08ca9c8421c9"
      },
      "source": [
        "dbc2.columns"
      ],
      "id": "checked-dover",
      "execution_count": 126,
      "outputs": [
        {
          "output_type": "execute_result",
          "data": {
            "text/plain": [
              "Index(['project_id', 'category', 'country', 'currency', 'goal', 'staff_pick',\n",
              "       'funded'],\n",
              "      dtype='object')"
            ]
          },
          "metadata": {},
          "execution_count": 126
        }
      ]
    },
    {
      "cell_type": "code",
      "metadata": {
        "colab": {
          "base_uri": "https://localhost:8080/"
        },
        "id": "forty-ethiopia",
        "outputId": "56504b06-a046-47e6-a0bd-af5175a518f7"
      },
      "source": [
        "list(set(dbc2.country) - set(topc))"
      ],
      "id": "forty-ethiopia",
      "execution_count": 127,
      "outputs": [
        {
          "output_type": "execute_result",
          "data": {
            "text/plain": [
              "['other']"
            ]
          },
          "metadata": {},
          "execution_count": 127
        }
      ]
    },
    {
      "cell_type": "code",
      "metadata": {
        "id": "auburn-chair"
      },
      "source": [
        "# one hot encoding ['category', 'currency','staff_pick','country']\n",
        "db_hot = pd.get_dummies(dbc2, drop_first=True, columns=['category', 'currency','staff_pick','country'])"
      ],
      "id": "auburn-chair",
      "execution_count": 128,
      "outputs": []
    },
    {
      "cell_type": "code",
      "metadata": {
        "id": "dutch-brisbane"
      },
      "source": [
        "X_train, X_test, y_train, y_test = train_test_split(db_hot.drop(['project_id','funded'], axis=1), db_hot['funded'])"
      ],
      "id": "dutch-brisbane",
      "execution_count": 129,
      "outputs": []
    },
    {
      "cell_type": "code",
      "metadata": {
        "colab": {
          "base_uri": "https://localhost:8080/"
        },
        "id": "center-accountability",
        "outputId": "3c2878ea-2cec-4560-b6de-a3346b3c818f"
      },
      "source": [
        "LogReg = LogisticRegression(solver='lbfgs')\n",
        "LogReg.fit(X_train, y_train)"
      ],
      "id": "center-accountability",
      "execution_count": 130,
      "outputs": [
        {
          "output_type": "execute_result",
          "data": {
            "text/plain": [
              "LogisticRegression(C=1.0, class_weight=None, dual=False, fit_intercept=True,\n",
              "                   intercept_scaling=1, l1_ratio=None, max_iter=100,\n",
              "                   multi_class='auto', n_jobs=None, penalty='l2',\n",
              "                   random_state=None, solver='lbfgs', tol=0.0001, verbose=0,\n",
              "                   warm_start=False)"
            ]
          },
          "metadata": {},
          "execution_count": 130
        }
      ]
    },
    {
      "cell_type": "code",
      "metadata": {
        "colab": {
          "base_uri": "https://localhost:8080/"
        },
        "id": "driving-raising",
        "outputId": "a10c60c3-85a1-48fc-ad58-bf17c5085179"
      },
      "source": [
        "print(LogReg.score(X_train,y_train))"
      ],
      "id": "driving-raising",
      "execution_count": 131,
      "outputs": [
        {
          "output_type": "stream",
          "name": "stdout",
          "text": [
            "0.41485333333333335\n"
          ]
        }
      ]
    },
    {
      "cell_type": "markdown",
      "metadata": {
        "id": "UZhi4_7HLQk4"
      },
      "source": [
        "The model with the derived feature coutry is not performing very well with accoracy score of 0.41564"
      ],
      "id": "UZhi4_7HLQk4"
    },
    {
      "cell_type": "code",
      "metadata": {
        "id": "expressed-demand"
      },
      "source": [
        "# creating a new db to experiment with\n",
        "dbc3 = db.copy()"
      ],
      "id": "expressed-demand",
      "execution_count": 132,
      "outputs": []
    },
    {
      "cell_type": "code",
      "metadata": {
        "colab": {
          "base_uri": "https://localhost:8080/"
        },
        "id": "acceptable-banking",
        "outputId": "8826b511-e579-4081-83ed-24ac68ba957f"
      },
      "source": [
        "dbc3.columns"
      ],
      "id": "acceptable-banking",
      "execution_count": 133,
      "outputs": [
        {
          "output_type": "execute_result",
          "data": {
            "text/plain": [
              "Index(['project_id', 'backers_count', 'blurb', 'category',\n",
              "       'converted_pledged_amount', 'country', 'created_at', 'currency',\n",
              "       'deadline', 'fx_rate', 'goal', 'launched_at', 'name', 'pledged',\n",
              "       'staff_pick', 'usd_pledged', 'location', 'funded', 'subcategory',\n",
              "       'project_url', 'reward_url'],\n",
              "      dtype='object')"
            ]
          },
          "metadata": {},
          "execution_count": 133
        }
      ]
    },
    {
      "cell_type": "code",
      "metadata": {
        "id": "incident-phoenix"
      },
      "source": [
        "# selecting the columns that will b used\n",
        "dbc3 = dbc3[['project_id', 'category', 'currency', 'goal', 'staff_pick', 'funded',\n",
        "       'subcategory']]"
      ],
      "id": "incident-phoenix",
      "execution_count": 134,
      "outputs": []
    },
    {
      "cell_type": "code",
      "metadata": {
        "colab": {
          "base_uri": "https://localhost:8080/"
        },
        "id": "rough-developer",
        "outputId": "8caabed9-2f04-4643-b0be-973f9937129e"
      },
      "source": [
        "dbc3.columns"
      ],
      "id": "rough-developer",
      "execution_count": 135,
      "outputs": [
        {
          "output_type": "execute_result",
          "data": {
            "text/plain": [
              "Index(['project_id', 'category', 'currency', 'goal', 'staff_pick', 'funded',\n",
              "       'subcategory'],\n",
              "      dtype='object')"
            ]
          },
          "metadata": {},
          "execution_count": 135
        }
      ]
    },
    {
      "cell_type": "code",
      "metadata": {
        "id": "democratic-shoot"
      },
      "source": [
        "# one hot encoding the features\n",
        "db_hot = pd.get_dummies(dbc3, drop_first=True, columns=['category', 'currency', 'goal', 'staff_pick', 'subcategory'])"
      ],
      "id": "democratic-shoot",
      "execution_count": 136,
      "outputs": []
    },
    {
      "cell_type": "code",
      "metadata": {
        "id": "narrow-copper"
      },
      "source": [
        "# performing the train test split\n",
        "X_train, X_test, y_train, y_test = train_test_split(db_hot.drop(['project_id','funded'], axis=1), db_hot['funded'])"
      ],
      "id": "narrow-copper",
      "execution_count": 137,
      "outputs": []
    },
    {
      "cell_type": "code",
      "metadata": {
        "colab": {
          "base_uri": "https://localhost:8080/"
        },
        "id": "ethical-duration",
        "outputId": "93158f38-c968-4499-a430-22a0997fb187"
      },
      "source": [
        "LogReg = LogisticRegression(solver='lbfgs')\n",
        "LogReg.fit(X_train, y_train)"
      ],
      "id": "ethical-duration",
      "execution_count": 138,
      "outputs": [
        {
          "output_type": "stream",
          "name": "stderr",
          "text": [
            "/usr/local/lib/python3.7/dist-packages/sklearn/linear_model/_logistic.py:940: ConvergenceWarning: lbfgs failed to converge (status=1):\n",
            "STOP: TOTAL NO. of ITERATIONS REACHED LIMIT.\n",
            "\n",
            "Increase the number of iterations (max_iter) or scale the data as shown in:\n",
            "    https://scikit-learn.org/stable/modules/preprocessing.html\n",
            "Please also refer to the documentation for alternative solver options:\n",
            "    https://scikit-learn.org/stable/modules/linear_model.html#logistic-regression\n",
            "  extra_warning_msg=_LOGISTIC_SOLVER_CONVERGENCE_MSG)\n"
          ]
        },
        {
          "output_type": "execute_result",
          "data": {
            "text/plain": [
              "LogisticRegression(C=1.0, class_weight=None, dual=False, fit_intercept=True,\n",
              "                   intercept_scaling=1, l1_ratio=None, max_iter=100,\n",
              "                   multi_class='auto', n_jobs=None, penalty='l2',\n",
              "                   random_state=None, solver='lbfgs', tol=0.0001, verbose=0,\n",
              "                   warm_start=False)"
            ]
          },
          "metadata": {},
          "execution_count": 138
        }
      ]
    },
    {
      "cell_type": "code",
      "metadata": {
        "colab": {
          "base_uri": "https://localhost:8080/"
        },
        "id": "correct-polymer",
        "outputId": "faf4d565-236a-4092-ffd9-87fb0574c7a8"
      },
      "source": [
        "print(LogReg.score(X_train,y_train))"
      ],
      "id": "correct-polymer",
      "execution_count": 139,
      "outputs": [
        {
          "output_type": "stream",
          "name": "stdout",
          "text": [
            "0.7940666666666667\n"
          ]
        }
      ]
    },
    {
      "cell_type": "markdown",
      "metadata": {
        "id": "PC-Sx4xaNkWU"
      },
      "source": [
        "a big improvement is observed. Probably the feature 'goal' has made an impact\n"
      ],
      "id": "PC-Sx4xaNkWU"
    },
    {
      "cell_type": "code",
      "metadata": {
        "id": "KR76X0B0VSHn"
      },
      "source": [
        "dbc4 = db.copy()"
      ],
      "id": "KR76X0B0VSHn",
      "execution_count": 140,
      "outputs": []
    },
    {
      "cell_type": "code",
      "metadata": {
        "id": "FMTu8x9QVeZN"
      },
      "source": [
        "dbc4 = dbc4[['project_id', 'category', 'currency', 'goal', 'staff_pick', 'funded',\n",
        "       'subcategory', 'location']]"
      ],
      "id": "FMTu8x9QVeZN",
      "execution_count": 141,
      "outputs": []
    },
    {
      "cell_type": "code",
      "metadata": {
        "colab": {
          "base_uri": "https://localhost:8080/"
        },
        "id": "uq9Lg3i3VrWG",
        "outputId": "b39833f2-2bed-40dc-a9f8-ff3086cfff11"
      },
      "source": [
        "dbc4.columns"
      ],
      "id": "uq9Lg3i3VrWG",
      "execution_count": 142,
      "outputs": [
        {
          "output_type": "execute_result",
          "data": {
            "text/plain": [
              "Index(['project_id', 'category', 'currency', 'goal', 'staff_pick', 'funded',\n",
              "       'subcategory', 'location'],\n",
              "      dtype='object')"
            ]
          },
          "metadata": {},
          "execution_count": 142
        }
      ]
    },
    {
      "cell_type": "code",
      "metadata": {
        "colab": {
          "base_uri": "https://localhost:8080/"
        },
        "id": "spectacular-support",
        "outputId": "7ae4b248-1bed-4359-f779-ecba8fe4d97b"
      },
      "source": [
        "#now we wil attempt to create new feattre drived from location\n",
        "# get top 10 most frequent funded location\n",
        "n = 10\n",
        "topl=dbFunded['location'].value_counts()[:n].index.tolist()\n",
        "topl"
      ],
      "id": "spectacular-support",
      "execution_count": 143,
      "outputs": [
        {
          "output_type": "execute_result",
          "data": {
            "text/plain": [
              "['New York, NY',\n",
              " 'Los Angeles, CA',\n",
              " 'Brooklyn, NY',\n",
              " 'San Francisco, CA',\n",
              " 'Chicago, IL',\n",
              " 'London, UK',\n",
              " 'Portland, OR',\n",
              " 'Seattle, WA',\n",
              " 'Austin, TX',\n",
              " 'Boston, MA']"
            ]
          },
          "metadata": {},
          "execution_count": 143
        }
      ]
    },
    {
      "cell_type": "code",
      "metadata": {
        "id": "YCY6wt0JUsuK"
      },
      "source": [
        "dbc4.loc[~dbc4.location.isin(topl), 'location'] = 'other'"
      ],
      "id": "YCY6wt0JUsuK",
      "execution_count": 144,
      "outputs": []
    },
    {
      "cell_type": "code",
      "metadata": {
        "colab": {
          "base_uri": "https://localhost:8080/"
        },
        "id": "AmaZvemuVAUk",
        "outputId": "285ee59c-2103-4157-8332-ed593891696f"
      },
      "source": [
        "dbc4.location.unique()"
      ],
      "id": "AmaZvemuVAUk",
      "execution_count": 145,
      "outputs": [
        {
          "output_type": "execute_result",
          "data": {
            "text/plain": [
              "array(['other', 'Chicago, IL', 'Seattle, WA', 'New York, NY',\n",
              "       'Boston, MA', 'Brooklyn, NY', 'Portland, OR', 'San Francisco, CA',\n",
              "       'Austin, TX', 'Los Angeles, CA', 'London, UK'], dtype=object)"
            ]
          },
          "metadata": {},
          "execution_count": 145
        }
      ]
    },
    {
      "cell_type": "code",
      "metadata": {
        "id": "CTSfIezGV_u8"
      },
      "source": [
        "#train with new features"
      ],
      "id": "CTSfIezGV_u8",
      "execution_count": 146,
      "outputs": []
    },
    {
      "cell_type": "code",
      "metadata": {
        "id": "Uw0f-N1JWKiE"
      },
      "source": [
        "db_hot = pd.get_dummies(dbc4, drop_first=True, columns=['category', 'currency', 'goal', 'staff_pick','subcategory', 'location'])"
      ],
      "id": "Uw0f-N1JWKiE",
      "execution_count": 147,
      "outputs": []
    },
    {
      "cell_type": "code",
      "metadata": {
        "id": "LUMlERDqWKiF"
      },
      "source": [
        "X_train, X_test, y_train, y_test = train_test_split(db_hot.drop(['project_id','funded'], axis=1), db_hot['funded'])"
      ],
      "id": "LUMlERDqWKiF",
      "execution_count": 148,
      "outputs": []
    },
    {
      "cell_type": "code",
      "metadata": {
        "colab": {
          "base_uri": "https://localhost:8080/"
        },
        "id": "fuLJdrFkWKiF",
        "outputId": "73d20eab-be8a-4b89-bc2f-f26b8e6013a3"
      },
      "source": [
        "LogReg = LogisticRegression(solver='lbfgs')\n",
        "LogReg.fit(X_train, y_train)"
      ],
      "id": "fuLJdrFkWKiF",
      "execution_count": 149,
      "outputs": [
        {
          "output_type": "stream",
          "name": "stderr",
          "text": [
            "/usr/local/lib/python3.7/dist-packages/sklearn/linear_model/_logistic.py:940: ConvergenceWarning: lbfgs failed to converge (status=1):\n",
            "STOP: TOTAL NO. of ITERATIONS REACHED LIMIT.\n",
            "\n",
            "Increase the number of iterations (max_iter) or scale the data as shown in:\n",
            "    https://scikit-learn.org/stable/modules/preprocessing.html\n",
            "Please also refer to the documentation for alternative solver options:\n",
            "    https://scikit-learn.org/stable/modules/linear_model.html#logistic-regression\n",
            "  extra_warning_msg=_LOGISTIC_SOLVER_CONVERGENCE_MSG)\n"
          ]
        },
        {
          "output_type": "execute_result",
          "data": {
            "text/plain": [
              "LogisticRegression(C=1.0, class_weight=None, dual=False, fit_intercept=True,\n",
              "                   intercept_scaling=1, l1_ratio=None, max_iter=100,\n",
              "                   multi_class='auto', n_jobs=None, penalty='l2',\n",
              "                   random_state=None, solver='lbfgs', tol=0.0001, verbose=0,\n",
              "                   warm_start=False)"
            ]
          },
          "metadata": {},
          "execution_count": 149
        }
      ]
    },
    {
      "cell_type": "code",
      "metadata": {
        "colab": {
          "base_uri": "https://localhost:8080/"
        },
        "id": "kC9iZZCQWKiF",
        "outputId": "5ffe84c7-2147-4b4f-c19d-a1062a4c5077"
      },
      "source": [
        "print(LogReg.score(X_train,y_train))"
      ],
      "id": "kC9iZZCQWKiF",
      "execution_count": 150,
      "outputs": [
        {
          "output_type": "stream",
          "name": "stdout",
          "text": [
            "0.7956933333333334\n"
          ]
        }
      ]
    },
    {
      "cell_type": "code",
      "metadata": {
        "id": "07QGI5RTXbkU"
      },
      "source": [
        "dbc5 = db.copy()"
      ],
      "id": "07QGI5RTXbkU",
      "execution_count": 151,
      "outputs": []
    },
    {
      "cell_type": "code",
      "metadata": {
        "id": "_dl1rVA7XbkU"
      },
      "source": [
        "dbc5 = dbc5[['project_id', 'category', 'currency', 'goal', 'staff_pick', 'funded',\n",
        "       'subcategory', 'location']]"
      ],
      "id": "_dl1rVA7XbkU",
      "execution_count": 152,
      "outputs": []
    },
    {
      "cell_type": "code",
      "metadata": {
        "colab": {
          "base_uri": "https://localhost:8080/"
        },
        "id": "WAzoOPvpXbkV",
        "outputId": "b156e2a5-0a14-46d8-c2ef-c53436986414"
      },
      "source": [
        "dbc5.columns"
      ],
      "id": "WAzoOPvpXbkV",
      "execution_count": 153,
      "outputs": [
        {
          "output_type": "execute_result",
          "data": {
            "text/plain": [
              "Index(['project_id', 'category', 'currency', 'goal', 'staff_pick', 'funded',\n",
              "       'subcategory', 'location'],\n",
              "      dtype='object')"
            ]
          },
          "metadata": {},
          "execution_count": 153
        }
      ]
    },
    {
      "cell_type": "code",
      "metadata": {
        "colab": {
          "base_uri": "https://localhost:8080/"
        },
        "id": "qpkMScy5XbkV",
        "outputId": "b59aed5c-1173-4d0a-e5a7-de0de30629b0"
      },
      "source": [
        "#now we wil attempt to create new feattre drived from location\n",
        "# get top 10 most frequent funded location\n",
        "n = 20\n",
        "topl=dbFunded['location'].value_counts()[:n].index.tolist()\n",
        "topl"
      ],
      "id": "qpkMScy5XbkV",
      "execution_count": 154,
      "outputs": [
        {
          "output_type": "execute_result",
          "data": {
            "text/plain": [
              "['New York, NY',\n",
              " 'Los Angeles, CA',\n",
              " 'Brooklyn, NY',\n",
              " 'San Francisco, CA',\n",
              " 'Chicago, IL',\n",
              " 'London, UK',\n",
              " 'Portland, OR',\n",
              " 'Seattle, WA',\n",
              " 'Austin, TX',\n",
              " 'Boston, MA',\n",
              " 'Philadelphia, PA',\n",
              " 'Minneapolis, MN',\n",
              " 'Nashville, TN',\n",
              " '?',\n",
              " 'Atlanta, GA',\n",
              " 'Washington, DC',\n",
              " 'San Diego, CA',\n",
              " 'Denver, CO',\n",
              " 'Toronto, Canada',\n",
              " 'Manhattan, NY']"
            ]
          },
          "metadata": {},
          "execution_count": 154
        }
      ]
    },
    {
      "cell_type": "code",
      "metadata": {
        "id": "usfz9BDjXbkV"
      },
      "source": [
        "dbc5.loc[~dbc5.location.isin(topl), 'location'] = 'other'"
      ],
      "id": "usfz9BDjXbkV",
      "execution_count": 155,
      "outputs": []
    },
    {
      "cell_type": "code",
      "metadata": {
        "colab": {
          "base_uri": "https://localhost:8080/"
        },
        "id": "WsUxFy7YXbkW",
        "outputId": "c7f50467-e3ab-4a1d-d716-27b25935cf99"
      },
      "source": [
        "dbc5.location.unique()"
      ],
      "id": "WsUxFy7YXbkW",
      "execution_count": 156,
      "outputs": [
        {
          "output_type": "execute_result",
          "data": {
            "text/plain": [
              "array(['other', 'Washington, DC', 'Chicago, IL', 'Seattle, WA',\n",
              "       'Minneapolis, MN', 'New York, NY', 'Boston, MA', 'Brooklyn, NY',\n",
              "       'Portland, OR', 'San Francisco, CA', 'Austin, TX',\n",
              "       'Los Angeles, CA', 'Manhattan, NY', 'Atlanta, GA', 'Denver, CO',\n",
              "       'San Diego, CA', 'Philadelphia, PA', 'Nashville, TN',\n",
              "       'Toronto, Canada', '?', 'London, UK'], dtype=object)"
            ]
          },
          "metadata": {},
          "execution_count": 156
        }
      ]
    },
    {
      "cell_type": "code",
      "metadata": {
        "id": "bC_N1ONUXbkW"
      },
      "source": [
        "db_hot = pd.get_dummies(dbc5, drop_first=True, columns=['category', 'currency', 'goal', 'staff_pick','subcategory', 'location'])"
      ],
      "id": "bC_N1ONUXbkW",
      "execution_count": 157,
      "outputs": []
    },
    {
      "cell_type": "code",
      "metadata": {
        "id": "4W1nJbmNXbkW"
      },
      "source": [
        "X_train, X_test, y_train, y_test = train_test_split(db_hot.drop(['project_id','funded'], axis=1), db_hot['funded'])"
      ],
      "id": "4W1nJbmNXbkW",
      "execution_count": 158,
      "outputs": []
    },
    {
      "cell_type": "code",
      "metadata": {
        "colab": {
          "base_uri": "https://localhost:8080/"
        },
        "id": "8_caGrCBXbkW",
        "outputId": "84c57087-308f-4a0d-f5d4-dfe6e45e9fad"
      },
      "source": [
        "LogReg = LogisticRegression(solver='lbfgs')\n",
        "LogReg.fit(X_train, y_train)"
      ],
      "id": "8_caGrCBXbkW",
      "execution_count": 159,
      "outputs": [
        {
          "output_type": "stream",
          "name": "stderr",
          "text": [
            "/usr/local/lib/python3.7/dist-packages/sklearn/linear_model/_logistic.py:940: ConvergenceWarning: lbfgs failed to converge (status=1):\n",
            "STOP: TOTAL NO. of ITERATIONS REACHED LIMIT.\n",
            "\n",
            "Increase the number of iterations (max_iter) or scale the data as shown in:\n",
            "    https://scikit-learn.org/stable/modules/preprocessing.html\n",
            "Please also refer to the documentation for alternative solver options:\n",
            "    https://scikit-learn.org/stable/modules/linear_model.html#logistic-regression\n",
            "  extra_warning_msg=_LOGISTIC_SOLVER_CONVERGENCE_MSG)\n"
          ]
        },
        {
          "output_type": "execute_result",
          "data": {
            "text/plain": [
              "LogisticRegression(C=1.0, class_weight=None, dual=False, fit_intercept=True,\n",
              "                   intercept_scaling=1, l1_ratio=None, max_iter=100,\n",
              "                   multi_class='auto', n_jobs=None, penalty='l2',\n",
              "                   random_state=None, solver='lbfgs', tol=0.0001, verbose=0,\n",
              "                   warm_start=False)"
            ]
          },
          "metadata": {},
          "execution_count": 159
        }
      ]
    },
    {
      "cell_type": "code",
      "metadata": {
        "colab": {
          "base_uri": "https://localhost:8080/"
        },
        "id": "U-F4msOeXbkW",
        "outputId": "82d99f58-4662-4e37-aaa8-cdbdddbf1965"
      },
      "source": [
        "print(LogReg.score(X_train,y_train))"
      ],
      "id": "U-F4msOeXbkW",
      "execution_count": 160,
      "outputs": [
        {
          "output_type": "stream",
          "name": "stdout",
          "text": [
            "0.7982133333333333\n"
          ]
        }
      ]
    },
    {
      "cell_type": "code",
      "metadata": {
        "id": "LpqyHjKDXbkX"
      },
      "source": [
        "# increasing n top locations to 40"
      ],
      "id": "LpqyHjKDXbkX",
      "execution_count": 161,
      "outputs": []
    },
    {
      "cell_type": "code",
      "metadata": {
        "id": "7pkYn3yPYkQt"
      },
      "source": [
        "dbc6 = db.copy()"
      ],
      "id": "7pkYn3yPYkQt",
      "execution_count": 162,
      "outputs": []
    },
    {
      "cell_type": "code",
      "metadata": {
        "id": "M8mYX35hYkQt"
      },
      "source": [
        "dbc6 = dbc6[['project_id', 'category', 'currency', 'goal', 'staff_pick', 'funded',\n",
        "       'subcategory', 'location']]"
      ],
      "id": "M8mYX35hYkQt",
      "execution_count": 163,
      "outputs": []
    },
    {
      "cell_type": "code",
      "metadata": {
        "colab": {
          "base_uri": "https://localhost:8080/"
        },
        "id": "8fMP-Eu9YkQu",
        "outputId": "85a0eb40-a485-4e3b-9884-3f32d0cbf61d"
      },
      "source": [
        "dbc6.columns"
      ],
      "id": "8fMP-Eu9YkQu",
      "execution_count": 164,
      "outputs": [
        {
          "output_type": "execute_result",
          "data": {
            "text/plain": [
              "Index(['project_id', 'category', 'currency', 'goal', 'staff_pick', 'funded',\n",
              "       'subcategory', 'location'],\n",
              "      dtype='object')"
            ]
          },
          "metadata": {},
          "execution_count": 164
        }
      ]
    },
    {
      "cell_type": "code",
      "metadata": {
        "colab": {
          "base_uri": "https://localhost:8080/"
        },
        "id": "K8oC_O1tYkQu",
        "outputId": "02d6b2e9-c365-4c99-fa7b-aba4c1456e2a"
      },
      "source": [
        "#now we wil attempt to create new feattre drived from location\n",
        "# get top 40 most frequent funded location\n",
        "n = 40\n",
        "topl=dbFunded['location'].value_counts()[:n].index.tolist()\n",
        "topl"
      ],
      "id": "K8oC_O1tYkQu",
      "execution_count": 352,
      "outputs": [
        {
          "output_type": "execute_result",
          "data": {
            "text/plain": [
              "['New York, NY',\n",
              " 'Los Angeles, CA',\n",
              " 'Brooklyn, NY',\n",
              " 'San Francisco, CA',\n",
              " 'Chicago, IL',\n",
              " 'London, UK',\n",
              " 'Portland, OR',\n",
              " 'Seattle, WA',\n",
              " 'Austin, TX',\n",
              " 'Boston, MA',\n",
              " 'Philadelphia, PA',\n",
              " 'Minneapolis, MN',\n",
              " 'Nashville, TN',\n",
              " '?',\n",
              " 'Atlanta, GA',\n",
              " 'Washington, DC',\n",
              " 'San Diego, CA',\n",
              " 'Denver, CO',\n",
              " 'Toronto, Canada',\n",
              " 'Manhattan, NY',\n",
              " 'Dallas, TX',\n",
              " 'Oakland, CA',\n",
              " 'Pittsburgh, PA',\n",
              " 'Salt Lake City, UT',\n",
              " 'Houston, TX',\n",
              " 'Detroit, MI',\n",
              " 'Baltimore, MD',\n",
              " 'New Orleans, LA',\n",
              " 'Vancouver, Canada',\n",
              " 'Phoenix, AZ',\n",
              " 'Orlando, FL',\n",
              " 'Las Vegas, NV',\n",
              " 'Montreal, Canada',\n",
              " 'St. Louis, MO',\n",
              " 'Columbus, OH',\n",
              " 'Kansas City, MO',\n",
              " 'Edinburgh, UK',\n",
              " 'Paris, France',\n",
              " 'Miami, FL',\n",
              " 'Sydney, AU']"
            ]
          },
          "metadata": {},
          "execution_count": 352
        }
      ]
    },
    {
      "cell_type": "code",
      "metadata": {
        "id": "I_G3Le-MYkQv"
      },
      "source": [
        "dbc6.loc[~dbc6.location.isin(topl), 'location'] = 'other'"
      ],
      "id": "I_G3Le-MYkQv",
      "execution_count": 353,
      "outputs": []
    },
    {
      "cell_type": "code",
      "metadata": {
        "colab": {
          "base_uri": "https://localhost:8080/"
        },
        "id": "_a1mzXXtYkQv",
        "outputId": "dddde980-90df-4def-9db7-cc905b661d35"
      },
      "source": [
        "dbc6.location.unique()"
      ],
      "id": "_a1mzXXtYkQv",
      "execution_count": 354,
      "outputs": [
        {
          "output_type": "execute_result",
          "data": {
            "text/plain": [
              "array(['other', 'Washington, DC', 'Houston, TX', 'Chicago, IL',\n",
              "       'Seattle, WA', 'Minneapolis, MN', 'New York, NY', 'Las Vegas, NV',\n",
              "       'Boston, MA', 'Brooklyn, NY', 'Vancouver, Canada', 'Portland, OR',\n",
              "       'San Francisco, CA', 'Austin, TX', 'St. Louis, MO',\n",
              "       'Paris, France', 'Los Angeles, CA', 'Manhattan, NY',\n",
              "       'New Orleans, LA', 'Phoenix, AZ', 'Atlanta, GA', 'Pittsburgh, PA',\n",
              "       'Denver, CO', 'Oakland, CA', 'Detroit, MI', 'Dallas, TX',\n",
              "       'Kansas City, MO', 'San Diego, CA', 'Philadelphia, PA',\n",
              "       'Nashville, TN', 'Baltimore, MD', 'Miami, FL', 'Orlando, FL',\n",
              "       'Toronto, Canada', 'Edinburgh, UK', 'Columbus, OH', '?',\n",
              "       'London, UK', 'Salt Lake City, UT', 'Sydney, AU',\n",
              "       'Montreal, Canada'], dtype=object)"
            ]
          },
          "metadata": {},
          "execution_count": 354
        }
      ]
    },
    {
      "cell_type": "code",
      "metadata": {
        "id": "KmWYPRV3YkQv"
      },
      "source": [
        "db_hot = pd.get_dummies(dbc6, drop_first=True, columns=['category', 'currency', 'goal', 'staff_pick','subcategory', 'location'])"
      ],
      "id": "KmWYPRV3YkQv",
      "execution_count": 355,
      "outputs": []
    },
    {
      "cell_type": "code",
      "metadata": {
        "id": "IdtKMAIAYkQw"
      },
      "source": [
        "X_train, X_test, y_train, y_test = train_test_split(db_hot.drop(['project_id','funded'], axis=1), db_hot['funded'])"
      ],
      "id": "IdtKMAIAYkQw",
      "execution_count": 356,
      "outputs": []
    },
    {
      "cell_type": "code",
      "metadata": {
        "colab": {
          "base_uri": "https://localhost:8080/"
        },
        "id": "F106UqXCYkQw",
        "outputId": "eec64ad2-e611-413e-c1fb-1bc39d5aaaa2"
      },
      "source": [
        "LogReg = LogisticRegression(solver='lbfgs')\n",
        "LogReg.fit(X_train, y_train)"
      ],
      "id": "F106UqXCYkQw",
      "execution_count": 357,
      "outputs": [
        {
          "output_type": "stream",
          "name": "stderr",
          "text": [
            "/usr/local/lib/python3.7/dist-packages/sklearn/linear_model/_logistic.py:940: ConvergenceWarning: lbfgs failed to converge (status=1):\n",
            "STOP: TOTAL NO. of ITERATIONS REACHED LIMIT.\n",
            "\n",
            "Increase the number of iterations (max_iter) or scale the data as shown in:\n",
            "    https://scikit-learn.org/stable/modules/preprocessing.html\n",
            "Please also refer to the documentation for alternative solver options:\n",
            "    https://scikit-learn.org/stable/modules/linear_model.html#logistic-regression\n",
            "  extra_warning_msg=_LOGISTIC_SOLVER_CONVERGENCE_MSG)\n"
          ]
        },
        {
          "output_type": "execute_result",
          "data": {
            "text/plain": [
              "LogisticRegression(C=1.0, class_weight=None, dual=False, fit_intercept=True,\n",
              "                   intercept_scaling=1, l1_ratio=None, max_iter=100,\n",
              "                   multi_class='auto', n_jobs=None, penalty='l2',\n",
              "                   random_state=None, solver='lbfgs', tol=0.0001, verbose=0,\n",
              "                   warm_start=False)"
            ]
          },
          "metadata": {},
          "execution_count": 357
        }
      ]
    },
    {
      "cell_type": "code",
      "metadata": {
        "colab": {
          "base_uri": "https://localhost:8080/"
        },
        "id": "om7zvZVjYkQw",
        "outputId": "2eebf56e-34b8-4697-e755-463bbbba6542"
      },
      "source": [
        "print(LogReg.score(X_train,y_train))"
      ],
      "id": "om7zvZVjYkQw",
      "execution_count": 358,
      "outputs": [
        {
          "output_type": "stream",
          "name": "stdout",
          "text": [
            "0.7988933333333333\n"
          ]
        }
      ]
    },
    {
      "cell_type": "code",
      "metadata": {
        "colab": {
          "base_uri": "https://localhost:8080/"
        },
        "id": "qyaJRAM9Zh9N",
        "outputId": "e4c8c1d7-7aa1-4faf-8807-8cf8f23920eb"
      },
      "source": [
        "db.location.nunique()"
      ],
      "id": "qyaJRAM9Zh9N",
      "execution_count": 359,
      "outputs": [
        {
          "output_type": "execute_result",
          "data": {
            "text/plain": [
              "10273"
            ]
          },
          "metadata": {},
          "execution_count": 359
        }
      ]
    },
    {
      "cell_type": "code",
      "metadata": {
        "id": "hwB3qZeiZ6aX"
      },
      "source": [
        "#trying to increase topl n to 100"
      ],
      "id": "hwB3qZeiZ6aX",
      "execution_count": 360,
      "outputs": []
    },
    {
      "cell_type": "code",
      "metadata": {
        "id": "t0DySU4ybAtZ"
      },
      "source": [
        "dbc7 = db.copy()"
      ],
      "id": "t0DySU4ybAtZ",
      "execution_count": 406,
      "outputs": []
    },
    {
      "cell_type": "code",
      "metadata": {
        "id": "H3tMP-20bAta"
      },
      "source": [
        "dbc7 = dbc7[['project_id', 'category', 'currency', 'goal', 'staff_pick', 'funded',\n",
        "       'subcategory', 'location']]"
      ],
      "id": "H3tMP-20bAta",
      "execution_count": 407,
      "outputs": []
    },
    {
      "cell_type": "code",
      "metadata": {
        "colab": {
          "base_uri": "https://localhost:8080/"
        },
        "id": "PEvfLK-hbAta",
        "outputId": "20a0e9d6-8367-49ea-a9f1-e328469e8f88"
      },
      "source": [
        "dbc7.columns"
      ],
      "id": "PEvfLK-hbAta",
      "execution_count": 408,
      "outputs": [
        {
          "output_type": "execute_result",
          "data": {
            "text/plain": [
              "Index(['project_id', 'category', 'currency', 'goal', 'staff_pick', 'funded',\n",
              "       'subcategory', 'location'],\n",
              "      dtype='object')"
            ]
          },
          "metadata": {},
          "execution_count": 408
        }
      ]
    },
    {
      "cell_type": "code",
      "metadata": {
        "id": "-XByd6wP7AQY"
      },
      "source": [
        "dbFunded = db.loc[db['funded'] == True]"
      ],
      "id": "-XByd6wP7AQY",
      "execution_count": 409,
      "outputs": []
    },
    {
      "cell_type": "code",
      "metadata": {
        "colab": {
          "base_uri": "https://localhost:8080/"
        },
        "id": "PhTbriO3ap6_",
        "outputId": "dc02503d-c87b-4533-b2f5-f240f293ba52"
      },
      "source": [
        "#now we wil attempt to create new feattre drived from location\n",
        "# get top 100 most frequent funded location\n",
        "n = 100\n",
        "topl=dbFunded['location'].value_counts()[:n].index.tolist()\n",
        "topl"
      ],
      "id": "PhTbriO3ap6_",
      "execution_count": 410,
      "outputs": [
        {
          "output_type": "execute_result",
          "data": {
            "text/plain": [
              "['New York, NY',\n",
              " 'Los Angeles, CA',\n",
              " 'Brooklyn, NY',\n",
              " 'San Francisco, CA',\n",
              " 'Chicago, IL',\n",
              " 'London, UK',\n",
              " 'Portland, OR',\n",
              " 'Seattle, WA',\n",
              " 'Austin, TX',\n",
              " 'Boston, MA',\n",
              " 'Philadelphia, PA',\n",
              " 'Minneapolis, MN',\n",
              " 'Nashville, TN',\n",
              " '?',\n",
              " 'Atlanta, GA',\n",
              " 'Washington, DC',\n",
              " 'San Diego, CA',\n",
              " 'Denver, CO',\n",
              " 'Toronto, Canada',\n",
              " 'Manhattan, NY',\n",
              " 'Dallas, TX',\n",
              " 'Oakland, CA',\n",
              " 'Pittsburgh, PA',\n",
              " 'Salt Lake City, UT',\n",
              " 'Houston, TX',\n",
              " 'Detroit, MI',\n",
              " 'Baltimore, MD',\n",
              " 'New Orleans, LA',\n",
              " 'Vancouver, Canada',\n",
              " 'Phoenix, AZ',\n",
              " 'Orlando, FL',\n",
              " 'Las Vegas, NV',\n",
              " 'Montreal, Canada',\n",
              " 'St. Louis, MO',\n",
              " 'Columbus, OH',\n",
              " 'Kansas City, MO',\n",
              " 'Edinburgh, UK',\n",
              " 'Paris, France',\n",
              " 'Miami, FL',\n",
              " 'Sydney, AU',\n",
              " 'Melbourne, AU',\n",
              " 'Tucson, AZ',\n",
              " 'Sacramento, CA',\n",
              " 'Cleveland, OH',\n",
              " 'Richmond, VA',\n",
              " 'Berlin, Germany',\n",
              " 'Grand Rapids, MI',\n",
              " 'San Jose, CA',\n",
              " 'Cincinnati, OH',\n",
              " 'Providence, RI',\n",
              " 'Hollywood, Los Angeles, CA',\n",
              " 'Boulder, CO',\n",
              " 'Berkeley, CA',\n",
              " 'Indianapolis, IN',\n",
              " 'Madison, WI',\n",
              " 'Tampa, FL',\n",
              " 'Milwaukee, WI',\n",
              " 'Cambridge, MA',\n",
              " 'Rochester, NY',\n",
              " 'Ann Arbor, MI',\n",
              " 'Raleigh, NC',\n",
              " 'San Antonio, TX',\n",
              " 'St. Paul, MN',\n",
              " 'Savannah, GA',\n",
              " 'Provo, UT',\n",
              " 'Manchester, UK',\n",
              " 'Portland, ME',\n",
              " 'Santa Cruz, CA',\n",
              " 'Stockholm, Sweden',\n",
              " 'Durham, NC',\n",
              " 'Bristol, UK',\n",
              " 'Albuquerque, NM',\n",
              " 'Asheville, NC',\n",
              " 'Boise, ID',\n",
              " 'Copenhagen, Denmark',\n",
              " 'Amsterdam, Netherlands',\n",
              " 'Charlotte, NC',\n",
              " 'Black Rock City, NV',\n",
              " 'Tokyo, Japan',\n",
              " 'Buffalo, NY',\n",
              " 'Hong Kong, Hong Kong',\n",
              " 'Lower East Side, Manhattan, NY',\n",
              " 'Santa Fe, NM',\n",
              " 'Long Beach, CA',\n",
              " 'Louisville, KY',\n",
              " 'Bellingham, WA',\n",
              " 'Honolulu, HI',\n",
              " 'Birmingham, UK',\n",
              " 'Irvine, CA',\n",
              " 'Queens, NY',\n",
              " 'Santa Monica, CA',\n",
              " 'Mexico City, Mexico',\n",
              " 'Charleston, SC',\n",
              " 'Palo Alto, CA',\n",
              " 'Lexington, KY',\n",
              " 'Brighton and Hove City, UK',\n",
              " 'Jacksonville, FL',\n",
              " 'Burlington, VT',\n",
              " 'Santa Barbara, CA',\n",
              " 'New Haven, CT']"
            ]
          },
          "metadata": {},
          "execution_count": 410
        }
      ]
    },
    {
      "cell_type": "code",
      "metadata": {
        "id": "TDnmN23Pap7A"
      },
      "source": [
        "dbc7.loc[~dbc7.location.isin(topl), 'location'] = 'other'"
      ],
      "id": "TDnmN23Pap7A",
      "execution_count": 411,
      "outputs": []
    },
    {
      "cell_type": "code",
      "metadata": {
        "colab": {
          "base_uri": "https://localhost:8080/"
        },
        "id": "Nctw9pbXap7A",
        "outputId": "146b01cd-ddd4-4c58-98da-855e5afabeec"
      },
      "source": [
        "dbc7.location.unique()"
      ],
      "id": "Nctw9pbXap7A",
      "execution_count": 412,
      "outputs": [
        {
          "output_type": "execute_result",
          "data": {
            "text/plain": [
              "array(['other', 'Washington, DC', 'Houston, TX', 'Chicago, IL',\n",
              "       'Seattle, WA', 'Minneapolis, MN', 'New York, NY', 'Raleigh, NC',\n",
              "       'Las Vegas, NV', 'Boston, MA', 'Brooklyn, NY', 'Savannah, GA',\n",
              "       'Providence, RI', 'Vancouver, Canada', 'Portland, OR',\n",
              "       'Durham, NC', 'San Francisco, CA', 'Santa Cruz, CA', 'Austin, TX',\n",
              "       'St. Louis, MO', 'Richmond, VA', 'Madison, WI', 'Paris, France',\n",
              "       'Los Angeles, CA', 'Charleston, SC', 'Manhattan, NY',\n",
              "       'New Orleans, LA', 'Cleveland, OH', 'Cincinnati, OH',\n",
              "       'Phoenix, AZ', 'Atlanta, GA', 'Rochester, NY', 'Pittsburgh, PA',\n",
              "       'Portland, ME', 'St. Paul, MN', 'Buffalo, NY', 'Louisville, KY',\n",
              "       'Lower East Side, Manhattan, NY', 'Santa Monica, CA', 'Denver, CO',\n",
              "       'Mexico City, Mexico', 'Burlington, VT', 'Oakland, CA',\n",
              "       'Detroit, MI', 'Albuquerque, NM', 'Dallas, TX', 'Kansas City, MO',\n",
              "       'Tucson, AZ', 'Sacramento, CA', 'San Diego, CA',\n",
              "       'Philadelphia, PA', 'Santa Barbara, CA', 'Cambridge, MA',\n",
              "       'Nashville, TN', 'Lexington, KY', 'Hollywood, Los Angeles, CA',\n",
              "       'Baltimore, MD', 'Grand Rapids, MI', 'Miami, FL', 'Boulder, CO',\n",
              "       'Santa Fe, NM', 'Orlando, FL', 'Toronto, Canada', 'Palo Alto, CA',\n",
              "       'Boise, ID', 'Asheville, NC', 'Berlin, Germany', 'Edinburgh, UK',\n",
              "       'Irvine, CA', 'Queens, NY', 'Charlotte, NC', 'Tokyo, Japan',\n",
              "       'San Jose, CA', 'Long Beach, CA', 'Tampa, FL', 'Milwaukee, WI',\n",
              "       'Columbus, OH', '?', 'Ann Arbor, MI', 'Copenhagen, Denmark',\n",
              "       'London, UK', 'Jacksonville, FL', 'Bellingham, WA', 'Honolulu, HI',\n",
              "       'Indianapolis, IN', 'Berkeley, CA', 'Melbourne, AU',\n",
              "       'Stockholm, Sweden', 'Salt Lake City, UT', 'Sydney, AU',\n",
              "       'Manchester, UK', 'Birmingham, UK', 'Black Rock City, NV',\n",
              "       'Montreal, Canada', 'Bristol, UK', 'Provo, UT', 'San Antonio, TX',\n",
              "       'Brighton and Hove City, UK', 'Hong Kong, Hong Kong',\n",
              "       'Amsterdam, Netherlands', 'New Haven, CT'], dtype=object)"
            ]
          },
          "metadata": {},
          "execution_count": 412
        }
      ]
    },
    {
      "cell_type": "code",
      "metadata": {
        "colab": {
          "base_uri": "https://localhost:8080/"
        },
        "id": "3rlOv5ZZDkgl",
        "outputId": "15cedf34-70cb-47bc-de2c-aa95a1da85ae"
      },
      "source": [
        "dbc7.goal"
      ],
      "id": "3rlOv5ZZDkgl",
      "execution_count": 413,
      "outputs": [
        {
          "output_type": "execute_result",
          "data": {
            "text/plain": [
              "0         2800.0\n",
              "1         4500.0\n",
              "2         5000.0\n",
              "3         6500.0\n",
              "4        15000.0\n",
              "          ...   \n",
              "99995     7000.0\n",
              "99996    25000.0\n",
              "99997     5500.0\n",
              "99998    25000.0\n",
              "99999     2500.0\n",
              "Name: goal, Length: 100000, dtype: float64"
            ]
          },
          "metadata": {},
          "execution_count": 413
        }
      ]
    },
    {
      "cell_type": "code",
      "metadata": {
        "id": "VYbwVBfmV_hl"
      },
      "source": [
        "# encoding goal values into ascending intervals\n",
        "dbc7['goal'] = pd.cut(dbc7.goal,bins=[0,5000,10000,25000,50000,75000,100000,250000,500000,750000,1000000,2500000,5000000,7500000,10000000,25000000,50000000,75000000,100000000000],\n",
        "                      labels=['1','2','3','4','5','6','7','8','9','10','11','12','13','14','15','16','17','18'])"
      ],
      "id": "VYbwVBfmV_hl",
      "execution_count": 414,
      "outputs": []
    },
    {
      "cell_type": "code",
      "metadata": {
        "colab": {
          "base_uri": "https://localhost:8080/"
        },
        "id": "Z6kFaSDjWAl2",
        "outputId": "820f3e6f-536e-4c57-ec91-a9a6ce1d9639"
      },
      "source": [
        "dbc7.goal"
      ],
      "id": "Z6kFaSDjWAl2",
      "execution_count": 415,
      "outputs": [
        {
          "output_type": "execute_result",
          "data": {
            "text/plain": [
              "0        1\n",
              "1        1\n",
              "2        1\n",
              "3        2\n",
              "4        3\n",
              "        ..\n",
              "99995    2\n",
              "99996    3\n",
              "99997    2\n",
              "99998    3\n",
              "99999    1\n",
              "Name: goal, Length: 100000, dtype: category\n",
              "Categories (18, object): ['1' < '2' < '3' < '4' ... '15' < '16' < '17' < '18']"
            ]
          },
          "metadata": {},
          "execution_count": 415
        }
      ]
    },
    {
      "cell_type": "code",
      "metadata": {
        "id": "x0ZRaYdmap7A"
      },
      "source": [
        "db_hot = pd.get_dummies(dbc7, drop_first=True, columns=['category', 'currency', 'goal', 'staff_pick','subcategory', 'location'])"
      ],
      "id": "x0ZRaYdmap7A",
      "execution_count": 416,
      "outputs": []
    },
    {
      "cell_type": "code",
      "metadata": {
        "id": "cKDJv9S2ap7B"
      },
      "source": [
        "X_train, X_test, y_train, y_test = train_test_split(db_hot.drop(['project_id','funded'], axis=1), db_hot['funded'])"
      ],
      "id": "cKDJv9S2ap7B",
      "execution_count": 417,
      "outputs": []
    },
    {
      "cell_type": "code",
      "metadata": {
        "colab": {
          "base_uri": "https://localhost:8080/"
        },
        "id": "jQgOU8jlap7B",
        "outputId": "9eeb79cf-8b3c-4579-ea06-3bcf998548c9"
      },
      "source": [
        "LogReg = LogisticRegression(solver='lbfgs',max_iter=1000, verbose=True)\n",
        "LogReg.fit(X_train, y_train)"
      ],
      "id": "jQgOU8jlap7B",
      "execution_count": 418,
      "outputs": [
        {
          "output_type": "stream",
          "name": "stderr",
          "text": [
            "[Parallel(n_jobs=1)]: Using backend SequentialBackend with 1 concurrent workers.\n",
            "[Parallel(n_jobs=1)]: Done   1 out of   1 | elapsed:   11.3s finished\n"
          ]
        },
        {
          "output_type": "execute_result",
          "data": {
            "text/plain": [
              "LogisticRegression(C=1.0, class_weight=None, dual=False, fit_intercept=True,\n",
              "                   intercept_scaling=1, l1_ratio=None, max_iter=1000,\n",
              "                   multi_class='auto', n_jobs=None, penalty='l2',\n",
              "                   random_state=None, solver='lbfgs', tol=0.0001, verbose=True,\n",
              "                   warm_start=False)"
            ]
          },
          "metadata": {},
          "execution_count": 418
        }
      ]
    },
    {
      "cell_type": "code",
      "metadata": {
        "colab": {
          "base_uri": "https://localhost:8080/"
        },
        "id": "QsA-u9BYap7B",
        "outputId": "a3e3ccdf-a4c6-421a-c62c-65f2359346fd"
      },
      "source": [
        "print(LogReg.score(X_train,y_train))"
      ],
      "id": "QsA-u9BYap7B",
      "execution_count": 419,
      "outputs": [
        {
          "output_type": "stream",
          "name": "stdout",
          "text": [
            "0.79084\n"
          ]
        }
      ]
    },
    {
      "cell_type": "markdown",
      "metadata": {
        "id": "Kpi3QKKBboKN"
      },
      "source": [
        "80% accuracy score is NICE"
      ],
      "id": "Kpi3QKKBboKN"
    },
    {
      "cell_type": "code",
      "metadata": {
        "id": "BO-PYzYtjZ4y"
      },
      "source": [
        "# Import the test_set\n",
        "\n",
        "db_Test = pd.read_csv(\"/content/drive/MyDrive/IDS/KS_test_data.csv\",delimiter=';')"
      ],
      "id": "BO-PYzYtjZ4y",
      "execution_count": 420,
      "outputs": []
    },
    {
      "cell_type": "code",
      "metadata": {
        "id": "_zmhaIi1nfQO"
      },
      "source": [
        "db_Test1 = db_Test.copy()"
      ],
      "id": "_zmhaIi1nfQO",
      "execution_count": 421,
      "outputs": []
    },
    {
      "cell_type": "code",
      "metadata": {
        "id": "h1esQ__gnndv"
      },
      "source": [
        "db_Test1 = db_Test1[['project_id', 'category', 'currency', 'goal', 'staff_pick','subcategory', 'location']]"
      ],
      "id": "h1esQ__gnndv",
      "execution_count": 422,
      "outputs": []
    },
    {
      "cell_type": "code",
      "metadata": {
        "id": "erIp0N194hQn",
        "colab": {
          "base_uri": "https://localhost:8080/",
          "height": 204
        },
        "outputId": "13721940-c825-4428-fc58-8f6cb6dc0408"
      },
      "source": [
        "db_Test1.head()"
      ],
      "id": "erIp0N194hQn",
      "execution_count": 423,
      "outputs": [
        {
          "output_type": "execute_result",
          "data": {
            "text/html": [
              "<div>\n",
              "<style scoped>\n",
              "    .dataframe tbody tr th:only-of-type {\n",
              "        vertical-align: middle;\n",
              "    }\n",
              "\n",
              "    .dataframe tbody tr th {\n",
              "        vertical-align: top;\n",
              "    }\n",
              "\n",
              "    .dataframe thead th {\n",
              "        text-align: right;\n",
              "    }\n",
              "</style>\n",
              "<table border=\"1\" class=\"dataframe\">\n",
              "  <thead>\n",
              "    <tr style=\"text-align: right;\">\n",
              "      <th></th>\n",
              "      <th>project_id</th>\n",
              "      <th>category</th>\n",
              "      <th>currency</th>\n",
              "      <th>goal</th>\n",
              "      <th>staff_pick</th>\n",
              "      <th>subcategory</th>\n",
              "      <th>location</th>\n",
              "    </tr>\n",
              "  </thead>\n",
              "  <tbody>\n",
              "    <tr>\n",
              "      <th>0</th>\n",
              "      <td>KS_100000</td>\n",
              "      <td>art</td>\n",
              "      <td>USD</td>\n",
              "      <td>3900.0</td>\n",
              "      <td>False</td>\n",
              "      <td>art</td>\n",
              "      <td>Bakersfield, CA</td>\n",
              "    </tr>\n",
              "    <tr>\n",
              "      <th>1</th>\n",
              "      <td>KS_100001</td>\n",
              "      <td>art</td>\n",
              "      <td>USD</td>\n",
              "      <td>750.0</td>\n",
              "      <td>False</td>\n",
              "      <td>painting</td>\n",
              "      <td>Lowell, MA</td>\n",
              "    </tr>\n",
              "    <tr>\n",
              "      <th>2</th>\n",
              "      <td>KS_100002</td>\n",
              "      <td>art</td>\n",
              "      <td>USD</td>\n",
              "      <td>1000.0</td>\n",
              "      <td>False</td>\n",
              "      <td>painting</td>\n",
              "      <td>Portland, OR</td>\n",
              "    </tr>\n",
              "    <tr>\n",
              "      <th>3</th>\n",
              "      <td>KS_100003</td>\n",
              "      <td>art</td>\n",
              "      <td>USD</td>\n",
              "      <td>15000.0</td>\n",
              "      <td>False</td>\n",
              "      <td>public art</td>\n",
              "      <td>Imlay, NV</td>\n",
              "    </tr>\n",
              "    <tr>\n",
              "      <th>4</th>\n",
              "      <td>KS_100004</td>\n",
              "      <td>art</td>\n",
              "      <td>USD</td>\n",
              "      <td>4200.0</td>\n",
              "      <td>True</td>\n",
              "      <td>digital art</td>\n",
              "      <td>Fredericksburg, VA</td>\n",
              "    </tr>\n",
              "  </tbody>\n",
              "</table>\n",
              "</div>"
            ],
            "text/plain": [
              "  project_id category currency  ...  staff_pick  subcategory            location\n",
              "0  KS_100000      art      USD  ...       False          art     Bakersfield, CA\n",
              "1  KS_100001      art      USD  ...       False     painting          Lowell, MA\n",
              "2  KS_100002      art      USD  ...       False     painting        Portland, OR\n",
              "3  KS_100003      art      USD  ...       False   public art           Imlay, NV\n",
              "4  KS_100004      art      USD  ...        True  digital art  Fredericksburg, VA\n",
              "\n",
              "[5 rows x 7 columns]"
            ]
          },
          "metadata": {},
          "execution_count": 423
        }
      ]
    },
    {
      "cell_type": "code",
      "metadata": {
        "colab": {
          "base_uri": "https://localhost:8080/",
          "height": 297
        },
        "id": "gqSYKfUHSeRL",
        "outputId": "b3e19b96-5fef-40bb-ecf4-ca76017529a2"
      },
      "source": [
        "db_Test1.describe()"
      ],
      "id": "gqSYKfUHSeRL",
      "execution_count": 424,
      "outputs": [
        {
          "output_type": "execute_result",
          "data": {
            "text/html": [
              "<div>\n",
              "<style scoped>\n",
              "    .dataframe tbody tr th:only-of-type {\n",
              "        vertical-align: middle;\n",
              "    }\n",
              "\n",
              "    .dataframe tbody tr th {\n",
              "        vertical-align: top;\n",
              "    }\n",
              "\n",
              "    .dataframe thead th {\n",
              "        text-align: right;\n",
              "    }\n",
              "</style>\n",
              "<table border=\"1\" class=\"dataframe\">\n",
              "  <thead>\n",
              "    <tr style=\"text-align: right;\">\n",
              "      <th></th>\n",
              "      <th>goal</th>\n",
              "    </tr>\n",
              "  </thead>\n",
              "  <tbody>\n",
              "    <tr>\n",
              "      <th>count</th>\n",
              "      <td>7.806500e+04</td>\n",
              "    </tr>\n",
              "    <tr>\n",
              "      <th>mean</th>\n",
              "      <td>3.925172e+04</td>\n",
              "    </tr>\n",
              "    <tr>\n",
              "      <th>std</th>\n",
              "      <td>9.383731e+05</td>\n",
              "    </tr>\n",
              "    <tr>\n",
              "      <th>min</th>\n",
              "      <td>1.000000e-02</td>\n",
              "    </tr>\n",
              "    <tr>\n",
              "      <th>25%</th>\n",
              "      <td>1.500000e+03</td>\n",
              "    </tr>\n",
              "    <tr>\n",
              "      <th>50%</th>\n",
              "      <td>5.000000e+03</td>\n",
              "    </tr>\n",
              "    <tr>\n",
              "      <th>75%</th>\n",
              "      <td>1.200000e+04</td>\n",
              "    </tr>\n",
              "    <tr>\n",
              "      <th>max</th>\n",
              "      <td>1.000000e+08</td>\n",
              "    </tr>\n",
              "  </tbody>\n",
              "</table>\n",
              "</div>"
            ],
            "text/plain": [
              "               goal\n",
              "count  7.806500e+04\n",
              "mean   3.925172e+04\n",
              "std    9.383731e+05\n",
              "min    1.000000e-02\n",
              "25%    1.500000e+03\n",
              "50%    5.000000e+03\n",
              "75%    1.200000e+04\n",
              "max    1.000000e+08"
            ]
          },
          "metadata": {},
          "execution_count": 424
        }
      ]
    },
    {
      "cell_type": "code",
      "metadata": {
        "id": "ZX_AZbCoTQ1t"
      },
      "source": [
        "db_Test1['goal'] = pd.cut(db_Test1.goal,bins=[0,5000,10000,25000,50000,75000,100000,250000,500000,750000,1000000,2500000,5000000,7500000,10000000,25000000,50000000,75000000,100000000000],\n",
        "                      labels=['1','2','3','4','5','6','7','8','9','10','11','12','13','14','15','16','17','18'])"
      ],
      "id": "ZX_AZbCoTQ1t",
      "execution_count": 425,
      "outputs": []
    },
    {
      "cell_type": "code",
      "metadata": {
        "id": "S2SkbMg0oEAZ",
        "outputId": "e41bda88-338e-4df7-fcf2-36da08444b44",
        "colab": {
          "base_uri": "https://localhost:8080/"
        }
      },
      "source": [
        "db_Test1['goal'].isnull().sum()"
      ],
      "id": "S2SkbMg0oEAZ",
      "execution_count": 426,
      "outputs": [
        {
          "output_type": "execute_result",
          "data": {
            "text/plain": [
              "0"
            ]
          },
          "metadata": {},
          "execution_count": 426
        }
      ]
    },
    {
      "cell_type": "code",
      "metadata": {
        "id": "8ATKcDtMTRks"
      },
      "source": [
        "db_Test1.loc[~db_Test1.location.isin(topl), 'location'] = 'other'"
      ],
      "id": "8ATKcDtMTRks",
      "execution_count": 427,
      "outputs": []
    },
    {
      "cell_type": "code",
      "metadata": {
        "colab": {
          "base_uri": "https://localhost:8080/"
        },
        "id": "IOrOSyKnTRkt",
        "outputId": "b7bf56a0-7d44-42f5-99b9-cf994eb4d968"
      },
      "source": [
        "db_Test1.location.unique()"
      ],
      "id": "IOrOSyKnTRkt",
      "execution_count": 428,
      "outputs": [
        {
          "output_type": "execute_result",
          "data": {
            "text/plain": [
              "array(['other', 'Portland, OR', 'Minneapolis, MN',\n",
              "       'Hollywood, Los Angeles, CA', 'Houston, TX', 'Los Angeles, CA',\n",
              "       'Washington, DC', 'Ann Arbor, MI', 'Sacramento, CA', 'Buffalo, NY',\n",
              "       'Baltimore, MD', 'Seattle, WA', 'Boise, ID', 'Richmond, VA',\n",
              "       'London, UK', 'Denver, CO', 'Pittsburgh, PA', 'Chicago, IL',\n",
              "       'Brooklyn, NY', 'New York, NY', 'Atlanta, GA', 'Miami, FL',\n",
              "       'Rochester, NY', 'Tucson, AZ', 'Burlington, VT', 'Phoenix, AZ',\n",
              "       'Austin, TX', 'New Orleans, LA', 'San Francisco, CA',\n",
              "       'Santa Fe, NM', 'Charlotte, NC', 'Milwaukee, WI', 'Savannah, GA',\n",
              "       'Madison, WI', 'Boston, MA', 'Detroit, MI', 'Asheville, NC',\n",
              "       'Berkeley, CA', 'Lower East Side, Manhattan, NY', 'Long Beach, CA',\n",
              "       'Paris, France', 'Philadelphia, PA', 'Boulder, CO',\n",
              "       'Cleveland, OH', 'Nashville, TN', 'Kansas City, MO', 'Durham, NC',\n",
              "       'Berlin, Germany', 'Stockholm, Sweden', 'Dallas, TX',\n",
              "       'Providence, RI', 'Albuquerque, NM', 'Manhattan, NY',\n",
              "       'Grand Rapids, MI', 'Salt Lake City, UT', 'Queens, NY',\n",
              "       'St. Louis, MO', 'Santa Cruz, CA', 'Columbus, OH', 'Oakland, CA',\n",
              "       'San Diego, CA', 'Lexington, KY', 'Edinburgh, UK',\n",
              "       'Manchester, UK', 'Las Vegas, NV', 'San Antonio, TX',\n",
              "       'Vancouver, Canada', 'Portland, ME', 'Tampa, FL',\n",
              "       'Amsterdam, Netherlands', 'Orlando, FL', '?', 'Santa Monica, CA',\n",
              "       'New Haven, CT', 'Cincinnati, OH', 'St. Paul, MN', 'Palo Alto, CA',\n",
              "       'Cambridge, MA', 'Brighton and Hove City, UK', 'Melbourne, AU',\n",
              "       'Charleston, SC', 'Montreal, Canada', 'Irvine, CA',\n",
              "       'Black Rock City, NV', 'Santa Barbara, CA', 'Bristol, UK',\n",
              "       'Copenhagen, Denmark', 'Toronto, Canada', 'Raleigh, NC',\n",
              "       'Birmingham, UK', 'Louisville, KY', 'Mexico City, Mexico',\n",
              "       'Jacksonville, FL', 'Sydney, AU', 'Indianapolis, IN',\n",
              "       'Hong Kong, Hong Kong', 'Honolulu, HI', 'San Jose, CA',\n",
              "       'Bellingham, WA', 'Provo, UT', 'Tokyo, Japan'], dtype=object)"
            ]
          },
          "metadata": {},
          "execution_count": 428
        }
      ]
    },
    {
      "cell_type": "code",
      "metadata": {
        "id": "H6jIcPq5nKlR"
      },
      "source": [
        "db_hot_Test1 = pd.get_dummies(db_Test1, drop_first=True, columns=['category', 'currency', 'goal', 'staff_pick','subcategory', 'location'])"
      ],
      "id": "H6jIcPq5nKlR",
      "execution_count": 429,
      "outputs": []
    },
    {
      "cell_type": "code",
      "metadata": {
        "colab": {
          "base_uri": "https://localhost:8080/"
        },
        "id": "bm59UErUU7Eh",
        "outputId": "5b4bb19b-64ce-4a5f-a485-404875272570"
      },
      "source": [
        "db_Test1.columns"
      ],
      "id": "bm59UErUU7Eh",
      "execution_count": 430,
      "outputs": [
        {
          "output_type": "execute_result",
          "data": {
            "text/plain": [
              "Index(['project_id', 'category', 'currency', 'goal', 'staff_pick',\n",
              "       'subcategory', 'location'],\n",
              "      dtype='object')"
            ]
          },
          "metadata": {},
          "execution_count": 430
        }
      ]
    },
    {
      "cell_type": "code",
      "metadata": {
        "colab": {
          "base_uri": "https://localhost:8080/"
        },
        "id": "c-CN10QSXOtM",
        "outputId": "132346f0-df3d-4d97-d81d-6d191fb9e85f"
      },
      "source": [
        "dbc7.columns"
      ],
      "id": "c-CN10QSXOtM",
      "execution_count": 431,
      "outputs": [
        {
          "output_type": "execute_result",
          "data": {
            "text/plain": [
              "Index(['project_id', 'category', 'currency', 'goal', 'staff_pick', 'funded',\n",
              "       'subcategory', 'location'],\n",
              "      dtype='object')"
            ]
          },
          "metadata": {},
          "execution_count": 431
        }
      ]
    },
    {
      "cell_type": "code",
      "metadata": {
        "id": "dVwzKtvB4tGy",
        "colab": {
          "base_uri": "https://localhost:8080/"
        },
        "outputId": "6afe647a-e18d-4c24-849b-5bb71ab82bf4"
      },
      "source": [
        "db_hot_Test1.columns"
      ],
      "id": "dVwzKtvB4tGy",
      "execution_count": 432,
      "outputs": [
        {
          "output_type": "execute_result",
          "data": {
            "text/plain": [
              "Index(['project_id', 'category_comics', 'category_crafts', 'category_dance',\n",
              "       'category_design', 'category_fashion', 'category_film & video',\n",
              "       'category_food', 'category_games', 'category_journalism',\n",
              "       ...\n",
              "       'location_St. Paul, MN', 'location_Stockholm, Sweden',\n",
              "       'location_Sydney, AU', 'location_Tampa, FL', 'location_Tokyo, Japan',\n",
              "       'location_Toronto, Canada', 'location_Tucson, AZ',\n",
              "       'location_Vancouver, Canada', 'location_Washington, DC',\n",
              "       'location_other'],\n",
              "      dtype='object', length=303)"
            ]
          },
          "metadata": {},
          "execution_count": 432
        }
      ]
    },
    {
      "cell_type": "code",
      "metadata": {
        "id": "Abkyc_3syDeD"
      },
      "source": [
        "column_name=['project_id','prediction']\n",
        "db_hot_pred= pd.DataFrame(columns=column_name) "
      ],
      "id": "Abkyc_3syDeD",
      "execution_count": 433,
      "outputs": []
    },
    {
      "cell_type": "code",
      "metadata": {
        "id": "S1Fw95e2zjvd"
      },
      "source": [
        "db_hot_pred['project_id']=db_hot_Test1.project_id"
      ],
      "id": "S1Fw95e2zjvd",
      "execution_count": 434,
      "outputs": []
    },
    {
      "cell_type": "code",
      "metadata": {
        "id": "fVOvQuoNz62n",
        "colab": {
          "base_uri": "https://localhost:8080/",
          "height": 419
        },
        "outputId": "b14ff83c-d963-41a6-e78c-33aa244a0cba"
      },
      "source": [
        "db_hot_pred"
      ],
      "id": "fVOvQuoNz62n",
      "execution_count": 435,
      "outputs": [
        {
          "output_type": "execute_result",
          "data": {
            "text/html": [
              "<div>\n",
              "<style scoped>\n",
              "    .dataframe tbody tr th:only-of-type {\n",
              "        vertical-align: middle;\n",
              "    }\n",
              "\n",
              "    .dataframe tbody tr th {\n",
              "        vertical-align: top;\n",
              "    }\n",
              "\n",
              "    .dataframe thead th {\n",
              "        text-align: right;\n",
              "    }\n",
              "</style>\n",
              "<table border=\"1\" class=\"dataframe\">\n",
              "  <thead>\n",
              "    <tr style=\"text-align: right;\">\n",
              "      <th></th>\n",
              "      <th>project_id</th>\n",
              "      <th>prediction</th>\n",
              "    </tr>\n",
              "  </thead>\n",
              "  <tbody>\n",
              "    <tr>\n",
              "      <th>0</th>\n",
              "      <td>KS_100000</td>\n",
              "      <td>NaN</td>\n",
              "    </tr>\n",
              "    <tr>\n",
              "      <th>1</th>\n",
              "      <td>KS_100001</td>\n",
              "      <td>NaN</td>\n",
              "    </tr>\n",
              "    <tr>\n",
              "      <th>2</th>\n",
              "      <td>KS_100002</td>\n",
              "      <td>NaN</td>\n",
              "    </tr>\n",
              "    <tr>\n",
              "      <th>3</th>\n",
              "      <td>KS_100003</td>\n",
              "      <td>NaN</td>\n",
              "    </tr>\n",
              "    <tr>\n",
              "      <th>4</th>\n",
              "      <td>KS_100004</td>\n",
              "      <td>NaN</td>\n",
              "    </tr>\n",
              "    <tr>\n",
              "      <th>...</th>\n",
              "      <td>...</td>\n",
              "      <td>...</td>\n",
              "    </tr>\n",
              "    <tr>\n",
              "      <th>78060</th>\n",
              "      <td>KS_178060</td>\n",
              "      <td>NaN</td>\n",
              "    </tr>\n",
              "    <tr>\n",
              "      <th>78061</th>\n",
              "      <td>KS_178061</td>\n",
              "      <td>NaN</td>\n",
              "    </tr>\n",
              "    <tr>\n",
              "      <th>78062</th>\n",
              "      <td>KS_178062</td>\n",
              "      <td>NaN</td>\n",
              "    </tr>\n",
              "    <tr>\n",
              "      <th>78063</th>\n",
              "      <td>KS_178063</td>\n",
              "      <td>NaN</td>\n",
              "    </tr>\n",
              "    <tr>\n",
              "      <th>78064</th>\n",
              "      <td>KS_178064</td>\n",
              "      <td>NaN</td>\n",
              "    </tr>\n",
              "  </tbody>\n",
              "</table>\n",
              "<p>78065 rows × 2 columns</p>\n",
              "</div>"
            ],
            "text/plain": [
              "      project_id prediction\n",
              "0      KS_100000        NaN\n",
              "1      KS_100001        NaN\n",
              "2      KS_100002        NaN\n",
              "3      KS_100003        NaN\n",
              "4      KS_100004        NaN\n",
              "...          ...        ...\n",
              "78060  KS_178060        NaN\n",
              "78061  KS_178061        NaN\n",
              "78062  KS_178062        NaN\n",
              "78063  KS_178063        NaN\n",
              "78064  KS_178064        NaN\n",
              "\n",
              "[78065 rows x 2 columns]"
            ]
          },
          "metadata": {},
          "execution_count": 435
        }
      ]
    },
    {
      "cell_type": "code",
      "metadata": {
        "id": "EBfwi3RxDsr0",
        "colab": {
          "base_uri": "https://localhost:8080/"
        },
        "outputId": "86ef3df9-4e01-4b66-b05c-5edb60c7b6b0"
      },
      "source": [
        "LogReg.predict(db_hot_Test1.drop(['project_id'], axis=1))"
      ],
      "id": "EBfwi3RxDsr0",
      "execution_count": 436,
      "outputs": [
        {
          "output_type": "execute_result",
          "data": {
            "text/plain": [
              "array([ True,  True,  True, ...,  True,  True, False])"
            ]
          },
          "metadata": {},
          "execution_count": 436
        }
      ]
    },
    {
      "cell_type": "code",
      "metadata": {
        "id": "VO3Rwij7ESgB"
      },
      "source": [
        "db_hot_pred['prediction'] = LogReg.predict(db_hot_Test1.drop(['project_id'], axis=1))"
      ],
      "id": "VO3Rwij7ESgB",
      "execution_count": 437,
      "outputs": []
    },
    {
      "cell_type": "code",
      "metadata": {
        "id": "IHajZFTlEnAm",
        "colab": {
          "base_uri": "https://localhost:8080/"
        },
        "outputId": "469e2f96-b1da-42c9-d722-ef1c56b85bd5"
      },
      "source": [
        "db_hot_pred['prediction']"
      ],
      "id": "IHajZFTlEnAm",
      "execution_count": 438,
      "outputs": [
        {
          "output_type": "execute_result",
          "data": {
            "text/plain": [
              "0         True\n",
              "1         True\n",
              "2         True\n",
              "3        False\n",
              "4         True\n",
              "         ...  \n",
              "78060    False\n",
              "78061    False\n",
              "78062     True\n",
              "78063     True\n",
              "78064    False\n",
              "Name: prediction, Length: 78065, dtype: bool"
            ]
          },
          "metadata": {},
          "execution_count": 438
        }
      ]
    },
    {
      "cell_type": "code",
      "metadata": {
        "id": "JMuXEwaLEuz3"
      },
      "source": [
        "db_hot_pred.to_csv('predictions.tsv', sep='\\t', columns=['project_id','prediction'])"
      ],
      "id": "JMuXEwaLEuz3",
      "execution_count": 439,
      "outputs": []
    },
    {
      "cell_type": "code",
      "metadata": {
        "id": "Lh-GXcHdENer"
      },
      "source": [
        "from sklearn.model_selection import RepeatedKFold\n",
        "from sklearn.model_selection import cross_val_score\n",
        "from numpy import mean\n",
        "from numpy import std"
      ],
      "id": "Lh-GXcHdENer",
      "execution_count": 440,
      "outputs": []
    },
    {
      "cell_type": "code",
      "metadata": {
        "id": "CqrmTJXpENeu"
      },
      "source": [
        "cv = RepeatedKFold(n_splits=10, n_repeats=3, random_state=1)\n",
        "\n",
        "# evaluate model\n",
        "scores = cross_val_score(LogReg, X_test, y_test, scoring='accuracy', cv=cv, n_jobs=-1)\n"
      ],
      "id": "CqrmTJXpENeu",
      "execution_count": 441,
      "outputs": []
    },
    {
      "cell_type": "code",
      "metadata": {
        "colab": {
          "base_uri": "https://localhost:8080/"
        },
        "id": "NLUoCRtWENev",
        "outputId": "76447ba0-9eee-4c42-a3c1-b339dfd505ae"
      },
      "source": [
        "# report performance\n",
        "print('Accuracy: %.3f (%.3f)' % (mean(scores), std(scores)))"
      ],
      "id": "NLUoCRtWENev",
      "execution_count": 442,
      "outputs": [
        {
          "output_type": "stream",
          "name": "stdout",
          "text": [
            "Accuracy: 0.780 (0.010)\n"
          ]
        }
      ]
    },
    {
      "cell_type": "code",
      "metadata": {
        "colab": {
          "base_uri": "https://localhost:8080/"
        },
        "id": "T44-z7L5Hb9S",
        "outputId": "8d319fd8-6123-4c66-eb3e-1807ad391775"
      },
      "source": [
        "# accuracy times number of data points in test set\n",
        "0.781 * 78065\n"
      ],
      "id": "T44-z7L5Hb9S",
      "execution_count": 443,
      "outputs": [
        {
          "output_type": "execute_result",
          "data": {
            "text/plain": [
              "60968.765"
            ]
          },
          "metadata": {},
          "execution_count": 443
        }
      ]
    }
  ]
}